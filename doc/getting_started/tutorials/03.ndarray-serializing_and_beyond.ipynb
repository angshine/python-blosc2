{
 "cells": [
  {
   "cell_type": "markdown",
   "metadata": {},
   "source": [
    "# Advanced NDArray tutorial: NumPy arrays and NDArrays\n",
    "\n",
    "In the [NDArray basics tutorial](02.ndarray-basics.html) we saw how to create NDArray and set slices to the values of a NumPy array. But you can also create a NDArray from a NumPy array with the `asarray` function. Let's check this out!"
   ]
  },
  {
   "cell_type": "code",
   "execution_count": 1,
   "metadata": {
    "ExecuteTime": {
     "end_time": "2023-06-20T10:34:36.459362Z",
     "start_time": "2023-06-20T10:34:34.892862Z"
    }
   },
   "outputs": [],
   "source": [
    "import blosc2\n",
    "import numpy as np"
   ]
  },
  {
   "cell_type": "markdown",
   "source": [
    "## Creating a NDArray from a NumPy array\n",
    "\n",
    "We will first create a NumPy array and create a NDArray from it."
   ],
   "metadata": {
    "collapsed": false
   }
  },
  {
   "cell_type": "code",
   "execution_count": 3,
   "outputs": [
    {
     "data": {
      "text/plain": "\u001B[1m{\u001B[0m\n    \u001B[32m'blocksize'\u001B[0m: \u001B[1;36m262144\u001B[0m,\n    \u001B[32m'clevel'\u001B[0m: \u001B[1;36m1\u001B[0m,\n    \u001B[32m'codec'\u001B[0m: \u001B[1m<\u001B[0m\u001B[1;95mCodec.ZSTD:\u001B[0m\u001B[39m \u001B[0m\u001B[1;36m5\u001B[0m\u001B[39m>,\u001B[0m\n\u001B[39m    \u001B[0m\u001B[32m'codec_meta'\u001B[0m\u001B[39m: \u001B[0m\u001B[1;36m0\u001B[0m\u001B[39m,\u001B[0m\n\u001B[39m    \u001B[0m\u001B[32m'filters'\u001B[0m\u001B[39m: \u001B[0m\u001B[1;39m[\u001B[0m\n\u001B[39m        <Filter.NOFILTER: \u001B[0m\u001B[1;36m0\u001B[0m\u001B[39m>,\u001B[0m\n\u001B[39m        <Filter.NOFILTER: \u001B[0m\u001B[1;36m0\u001B[0m\u001B[39m>,\u001B[0m\n\u001B[39m        <Filter.NOFILTER: \u001B[0m\u001B[1;36m0\u001B[0m\u001B[39m>,\u001B[0m\n\u001B[39m        <Filter.NOFILTER: \u001B[0m\u001B[1;36m0\u001B[0m\u001B[39m>,\u001B[0m\n\u001B[39m        <Filter.NOFILTER: \u001B[0m\u001B[1;36m0\u001B[0m\u001B[39m>,\u001B[0m\n\u001B[39m        <Filter.SHUFFLE: \u001B[0m\u001B[1;36m1\u001B[0m\u001B[39m>\u001B[0m\n\u001B[39m    \u001B[0m\u001B[1;39m]\u001B[0m\u001B[39m,\u001B[0m\n\u001B[39m    \u001B[0m\u001B[32m'filters_meta'\u001B[0m\u001B[39m: \u001B[0m\u001B[1;39m[\u001B[0m\u001B[1;36m0\u001B[0m\u001B[39m, \u001B[0m\u001B[1;36m0\u001B[0m\u001B[39m, \u001B[0m\u001B[1;36m0\u001B[0m\u001B[39m, \u001B[0m\u001B[1;36m0\u001B[0m\u001B[39m, \u001B[0m\u001B[1;36m0\u001B[0m\u001B[39m, \u001B[0m\u001B[1;36m0\u001B[0m\u001B[1;39m]\u001B[0m\u001B[39m,\u001B[0m\n\u001B[39m    \u001B[0m\u001B[32m'nthreads'\u001B[0m\u001B[39m: \u001B[0m\u001B[1;36m2\u001B[0m\u001B[39m,\u001B[0m\n\u001B[39m    \u001B[0m\u001B[32m'splitmode'\u001B[0m\u001B[39m: <SplitMode.ALWAYS_SPLIT: \u001B[0m\u001B[1;36m1\u001B[0m\u001B[1m>\u001B[0m,\n    \u001B[32m'typesize'\u001B[0m: \u001B[1;36m8\u001B[0m,\n    \u001B[32m'use_dict'\u001B[0m: \u001B[1;36m0\u001B[0m\n\u001B[1m}\u001B[0m\n",
      "text/html": "<pre style=\"white-space:pre;overflow-x:auto;line-height:normal;font-family:Menlo,'DejaVu Sans Mono',consolas,'Courier New',monospace\"><span style=\"font-weight: bold\">{</span>\n    <span style=\"color: #008000; text-decoration-color: #008000\">'blocksize'</span>: <span style=\"color: #008080; text-decoration-color: #008080; font-weight: bold\">262144</span>,\n    <span style=\"color: #008000; text-decoration-color: #008000\">'clevel'</span>: <span style=\"color: #008080; text-decoration-color: #008080; font-weight: bold\">1</span>,\n    <span style=\"color: #008000; text-decoration-color: #008000\">'codec'</span>: <span style=\"font-weight: bold\">&lt;</span><span style=\"color: #ff00ff; text-decoration-color: #ff00ff; font-weight: bold\">Codec.ZSTD:</span><span style=\"color: #000000; text-decoration-color: #000000\"> </span><span style=\"color: #008080; text-decoration-color: #008080; font-weight: bold\">5</span><span style=\"color: #000000; text-decoration-color: #000000\">&gt;,</span>\n<span style=\"color: #000000; text-decoration-color: #000000\">    </span><span style=\"color: #008000; text-decoration-color: #008000\">'codec_meta'</span><span style=\"color: #000000; text-decoration-color: #000000\">: </span><span style=\"color: #008080; text-decoration-color: #008080; font-weight: bold\">0</span><span style=\"color: #000000; text-decoration-color: #000000\">,</span>\n<span style=\"color: #000000; text-decoration-color: #000000\">    </span><span style=\"color: #008000; text-decoration-color: #008000\">'filters'</span><span style=\"color: #000000; text-decoration-color: #000000\">: </span><span style=\"color: #000000; text-decoration-color: #000000; font-weight: bold\">[</span>\n<span style=\"color: #000000; text-decoration-color: #000000\">        &lt;Filter.NOFILTER: </span><span style=\"color: #008080; text-decoration-color: #008080; font-weight: bold\">0</span><span style=\"color: #000000; text-decoration-color: #000000\">&gt;,</span>\n<span style=\"color: #000000; text-decoration-color: #000000\">        &lt;Filter.NOFILTER: </span><span style=\"color: #008080; text-decoration-color: #008080; font-weight: bold\">0</span><span style=\"color: #000000; text-decoration-color: #000000\">&gt;,</span>\n<span style=\"color: #000000; text-decoration-color: #000000\">        &lt;Filter.NOFILTER: </span><span style=\"color: #008080; text-decoration-color: #008080; font-weight: bold\">0</span><span style=\"color: #000000; text-decoration-color: #000000\">&gt;,</span>\n<span style=\"color: #000000; text-decoration-color: #000000\">        &lt;Filter.NOFILTER: </span><span style=\"color: #008080; text-decoration-color: #008080; font-weight: bold\">0</span><span style=\"color: #000000; text-decoration-color: #000000\">&gt;,</span>\n<span style=\"color: #000000; text-decoration-color: #000000\">        &lt;Filter.NOFILTER: </span><span style=\"color: #008080; text-decoration-color: #008080; font-weight: bold\">0</span><span style=\"color: #000000; text-decoration-color: #000000\">&gt;,</span>\n<span style=\"color: #000000; text-decoration-color: #000000\">        &lt;Filter.SHUFFLE: </span><span style=\"color: #008080; text-decoration-color: #008080; font-weight: bold\">1</span><span style=\"color: #000000; text-decoration-color: #000000\">&gt;</span>\n<span style=\"color: #000000; text-decoration-color: #000000\">    </span><span style=\"color: #000000; text-decoration-color: #000000; font-weight: bold\">]</span><span style=\"color: #000000; text-decoration-color: #000000\">,</span>\n<span style=\"color: #000000; text-decoration-color: #000000\">    </span><span style=\"color: #008000; text-decoration-color: #008000\">'filters_meta'</span><span style=\"color: #000000; text-decoration-color: #000000\">: </span><span style=\"color: #000000; text-decoration-color: #000000; font-weight: bold\">[</span><span style=\"color: #008080; text-decoration-color: #008080; font-weight: bold\">0</span><span style=\"color: #000000; text-decoration-color: #000000\">, </span><span style=\"color: #008080; text-decoration-color: #008080; font-weight: bold\">0</span><span style=\"color: #000000; text-decoration-color: #000000\">, </span><span style=\"color: #008080; text-decoration-color: #008080; font-weight: bold\">0</span><span style=\"color: #000000; text-decoration-color: #000000\">, </span><span style=\"color: #008080; text-decoration-color: #008080; font-weight: bold\">0</span><span style=\"color: #000000; text-decoration-color: #000000\">, </span><span style=\"color: #008080; text-decoration-color: #008080; font-weight: bold\">0</span><span style=\"color: #000000; text-decoration-color: #000000\">, </span><span style=\"color: #008080; text-decoration-color: #008080; font-weight: bold\">0</span><span style=\"color: #000000; text-decoration-color: #000000; font-weight: bold\">]</span><span style=\"color: #000000; text-decoration-color: #000000\">,</span>\n<span style=\"color: #000000; text-decoration-color: #000000\">    </span><span style=\"color: #008000; text-decoration-color: #008000\">'nthreads'</span><span style=\"color: #000000; text-decoration-color: #000000\">: </span><span style=\"color: #008080; text-decoration-color: #008080; font-weight: bold\">2</span><span style=\"color: #000000; text-decoration-color: #000000\">,</span>\n<span style=\"color: #000000; text-decoration-color: #000000\">    </span><span style=\"color: #008000; text-decoration-color: #008000\">'splitmode'</span><span style=\"color: #000000; text-decoration-color: #000000\">: &lt;SplitMode.ALWAYS_SPLIT: </span><span style=\"color: #008080; text-decoration-color: #008080; font-weight: bold\">1</span><span style=\"font-weight: bold\">&gt;</span>,\n    <span style=\"color: #008000; text-decoration-color: #008000\">'typesize'</span>: <span style=\"color: #008080; text-decoration-color: #008080; font-weight: bold\">8</span>,\n    <span style=\"color: #008000; text-decoration-color: #008000\">'use_dict'</span>: <span style=\"color: #008080; text-decoration-color: #008080; font-weight: bold\">0</span>\n<span style=\"font-weight: bold\">}</span>\n</pre>\n"
     },
     "metadata": {},
     "output_type": "display_data"
    },
    {
     "data": {
      "text/plain": "\u001B[1m{\u001B[0m\u001B[32m'nthreads'\u001B[0m: \u001B[1;36m2\u001B[0m\u001B[1m}\u001B[0m\n",
      "text/html": "<pre style=\"white-space:pre;overflow-x:auto;line-height:normal;font-family:Menlo,'DejaVu Sans Mono',consolas,'Courier New',monospace\"><span style=\"font-weight: bold\">{</span><span style=\"color: #008000; text-decoration-color: #008000\">'nthreads'</span>: <span style=\"color: #008080; text-decoration-color: #008080; font-weight: bold\">2</span><span style=\"font-weight: bold\">}</span>\n</pre>\n"
     },
     "metadata": {},
     "output_type": "display_data"
    },
    {
     "data": {
      "text/plain": "type    : NDArray\nshape   : (100, 100, 100)\nchunks  : (100, 100, 100)\nblocks  : (32, 32, 32)\ndtype   : float64\ncratio  : 16.00\ncparams : \ndparams : ",
      "text/html": "<table class=\"NDArray-info\"><tbody><tr><th style=\"text-align: left\">type</th><td style=\"text-align: left\">NDArray</td></tr><tr><th style=\"text-align: left\">shape</th><td style=\"text-align: left\">(100, 100, 100)</td></tr><tr><th style=\"text-align: left\">chunks</th><td style=\"text-align: left\">(100, 100, 100)</td></tr><tr><th style=\"text-align: left\">blocks</th><td style=\"text-align: left\">(32, 32, 32)</td></tr><tr><th style=\"text-align: left\">dtype</th><td style=\"text-align: left\">float64</td></tr><tr><th style=\"text-align: left\">cratio</th><td style=\"text-align: left\">16.00</td></tr><tr><th style=\"text-align: left\">cparams</th><td style=\"text-align: left\">{'codec': <Codec.ZSTD: 5>, 'codec_meta': 0, 'clevel': 1, 'use_dict': 0, 'typesize': 8, 'nthreads': 2, 'blocksize': 262144, 'splitmode': <SplitMode.ALWAYS_SPLIT: 1>, 'filters': [<Filter.NOFILTER: 0>, <Filter.NOFILTER: 0>, <Filter.NOFILTER: 0>, <Filter.NOFILTER: 0>, <Filter.NOFILTER: 0>, <Filter.SHUFFLE: 1>], 'filters_meta': [0, 0, 0, 0, 0, 0]}</td></tr><tr><th style=\"text-align: left\">dparams</th><td style=\"text-align: left\">{'nthreads': 2}</td></tr></tbody></table>"
     },
     "execution_count": 3,
     "metadata": {},
     "output_type": "execute_result"
    }
   ],
   "source": [
    "shape = (100, 100, 100)\n",
    "dtype = np.float64\n",
    "nparray = np.linspace(0, 100, np.prod(shape), dtype=dtype).reshape(shape)\n",
    "b2ndarray = blosc2.asarray(nparray)\n",
    "b2ndarray.info"
   ],
   "metadata": {
    "collapsed": false,
    "ExecuteTime": {
     "end_time": "2023-06-20T10:34:53.229129Z",
     "start_time": "2023-06-20T10:34:53.094564Z"
    }
   }
  },
  {
   "cell_type": "markdown",
   "metadata": {},
   "source": [
    "## Building a NDArray from a buffer\n",
    "\n",
    "Furthermore, you can create a NDArray filled with data from a buffer:"
   ]
  },
  {
   "cell_type": "code",
   "execution_count": 12,
   "metadata": {
    "ExecuteTime": {
     "end_time": "2023-06-20T10:46:43.383534Z",
     "start_time": "2023-06-20T10:46:43.282772Z"
    }
   },
   "outputs": [
    {
     "name": "stdout",
     "output_type": "stream",
     "text": [
      "Compression ratio: 2.3467473552048808\n"
     ]
    },
    {
     "data": {
      "text/plain": "array([[[-1.12523103e+01,  3.53598924e+00, -6.85864571e+00,\n         -7.60263662e-01, -2.64170413e+00],\n        [ 4.34752602e+00,  4.08975930e+00, -5.79605827e+00,\n          2.57459369e+00,  2.07877689e+00],\n        [ 5.01761802e+00, -1.46191264e+00,  3.07027224e+00,\n          2.90309861e+00,  4.09364713e+00],\n        [-8.53101794e+00, -2.51623188e+00, -6.33870900e+00,\n          6.40291284e+00,  1.05489428e+01],\n        [ 7.84056332e-01, -8.56559604e+00, -7.85843083e+00,\n          2.16577427e+01, -5.28259599e+00]],\n\n       [[ 3.30303888e+00,  1.35989716e+01,  1.34718221e+01,\n          8.99952277e+00, -6.20852658e+00],\n        [ 7.21785744e+00, -5.84436590e+00,  6.65154783e+00,\n          2.54472565e+00,  6.81276894e+00],\n        [-8.96319805e+00, -1.34509384e+01,  7.42518205e-01,\n         -1.52421355e+00,  6.43890261e+00],\n        [ 4.84817556e+00, -9.46262794e+00, -1.43329590e+01,\n         -1.01745577e+01, -6.81035506e+00],\n        [ 2.53173405e+00,  5.10216816e-01, -4.31221872e+00,\n          2.30340067e+00, -1.62580833e+01]],\n\n       [[ 6.11453961e+00,  9.56283273e+00, -2.86502981e+00,\n         -6.22821214e+00,  3.87395422e+00],\n        [-1.03961089e+01,  8.76088955e+00,  6.03615313e-01,\n         -4.66350980e+00, -1.99007325e+00],\n        [-7.31610234e+00, -9.62262163e-03, -9.59752256e-01,\n          7.32535060e+00,  5.50264160e+00],\n        [-5.62918125e+00, -1.13526655e+01, -1.92885389e+01,\n         -7.13343925e+00,  3.33843735e+00],\n        [ 1.93179918e+00, -9.70045221e+00, -8.62895179e+00,\n         -3.95693253e+00,  1.65848180e+00]],\n\n       [[ 4.91778907e+00,  1.77165521e+00, -1.06213489e+01,\n         -8.08227117e+00,  8.13679242e+00],\n        [ 4.83907728e+00,  2.48394097e-01, -1.53738648e+01,\n         -9.95802890e+00, -5.09086813e+00],\n        [ 1.47345596e+01, -8.91506982e-01,  5.98714510e+00,\n          2.61052910e+00, -9.66316187e+00],\n        [-1.67217408e+01, -2.69922391e+01, -7.87076703e-01,\n         -3.99447656e+00, -4.67263324e-01],\n        [-1.00128842e+01,  7.00073558e+00, -5.53536372e+00,\n          8.85829137e-01, -7.04934191e+00]],\n\n       [[-1.25894126e+00,  5.03824259e+00,  1.06821696e+01,\n         -2.96103862e+00, -6.76744912e+00],\n        [ 1.91652743e+00, -1.49572832e+01,  3.42191599e+00,\n         -1.74344901e+01,  6.89454649e+00],\n        [-2.96899652e+00,  1.36603142e+00,  1.17741141e+01,\n         -1.66708369e+01, -4.28860754e+00],\n        [ 9.87473776e+00, -4.01260740e+00,  5.58919735e+00,\n          1.65027140e+00,  8.12986561e+00],\n        [ 7.99793660e+00,  5.54532893e+00, -1.90319981e+01,\n         -8.34089065e-01,  8.84695940e+00]]])"
     },
     "execution_count": 12,
     "metadata": {},
     "output_type": "execute_result"
    }
   ],
   "source": [
    "buffer = bytes(np.random.normal(0, 1, np.prod(shape)) * 8)\n",
    "b2ndarray = blosc2.frombuffer(buffer, shape, dtype=dtype)\n",
    "print(\"Compression ratio:\", b2ndarray.schunk.cratio)\n",
    "b2ndarray[:5, :5, :5]"
   ]
  },
  {
   "cell_type": "markdown",
   "metadata": {},
   "source": [
    "## Serializing NumPy arrays\n",
    "\n",
    "If what you want is to create a serialized, compressed version of a NumPy array, you can use the newer (and faster) functions to store it either in-memory or on-disk.  The specification of such a contiguous compressed representation, aka **cframe** can be seen [here](https://github.com/Blosc/c-blosc2/blob/main/README_CFRAME_FORMAT.rst).\n",
    "\n",
    "### In-memory\n",
    "\n",
    "For obtaining an in-memory representation, you can use `pack_tensor`. In comparison with its former version (`pack_array`), it is way faster and does not have the 2 GB size limitation:"
   ]
  },
  {
   "cell_type": "code",
   "execution_count": 13,
   "outputs": [],
   "source": [
    "shape = (2**10, ) * 3\n",
    "np_array = np.arange(np.prod(shape), dtype=np.int32)  # 4 GB array\n",
    "\n",
    "packed_arr2 = blosc2.pack_tensor(np_array)\n",
    "unpacked_arr2 = blosc2.unpack_tensor(packed_arr2)"
   ],
   "metadata": {
    "collapsed": false
   }
  },
  {
   "cell_type": "markdown",
   "source": [
    "### On-disk\n",
    "\n",
    "To store the serialized buffer on-disk you want to use `save_tensor` and `load_tensor`:"
   ],
   "metadata": {
    "collapsed": false
   }
  },
  {
   "cell_type": "code",
   "execution_count": 10,
   "outputs": [
    {
     "data": {
      "text/plain": "True"
     },
     "execution_count": 10,
     "metadata": {},
     "output_type": "execute_result"
    }
   ],
   "source": [
    "blosc2.save_tensor(np_array, urlpath=\"ondisk_array.b2frame\", mode=\"w\")\n",
    "np_array2 = blosc2.load_tensor(\"ondisk_array.b2frame\")\n",
    "np.array_equal(np_array, np_array2)"
   ],
   "metadata": {
    "collapsed": false
   }
  }
 ],
 "metadata": {
  "kernelspec": {
   "display_name": "Python 3 (ipykernel)",
   "language": "python",
   "name": "python3"
  },
  "language_info": {
   "codemirror_mode": {
    "name": "ipython",
    "version": 3
   },
   "file_extension": ".py",
   "mimetype": "text/x-python",
   "name": "python",
   "nbconvert_exporter": "python",
   "pygments_lexer": "ipython3",
   "version": "3.9.6"
  }
 },
 "nbformat": 4,
 "nbformat_minor": 1
}
