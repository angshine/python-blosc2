{
 "cells": [
  {
   "cell_type": "markdown",
   "metadata": {},
   "source": [
    "# Advanced NDArray tutorial: NumPy arrays and NDArrays\n",
    "\n",
    "In the [NDArray basics tutorial](02.ndarray-basics.html) we saw how to create NDArray and set slices to the values of a NumPy array. But you can also create a NDArray from a NumPy array with the `asarray` function. Let's check this out!"
   ]
  },
  {
   "cell_type": "code",
   "execution_count": 1,
   "metadata": {
    "ExecuteTime": {
     "end_time": "2023-06-21T07:20:28.303437Z",
     "start_time": "2023-06-21T07:20:26.412690Z"
    }
   },
   "outputs": [],
   "source": [
    "import blosc2\n",
    "import numpy as np"
   ]
  },
  {
   "cell_type": "markdown",
   "source": [
    "## Creating a NDArray from a NumPy array\n",
    "\n",
    "We will first create a NumPy array and create a NDArray from it."
   ],
   "metadata": {
    "collapsed": false
   }
  },
  {
   "cell_type": "code",
   "execution_count": 2,
   "outputs": [
    {
     "name": "stdout",
     "output_type": "stream",
     "text": [
      "type    : NDArray\n",
      "shape   : (100, 100, 100)\n",
      "chunks  : (100, 100, 100)\n",
      "blocks  : (32, 32, 32)\n",
      "dtype   : float64\n",
      "cratio  : 16.00\n",
      "cparams : {'blocksize': 262144,\n",
      " 'clevel': 1,\n",
      " 'codec': <Codec.ZSTD: 5>,\n",
      " 'codec_meta': 0,\n",
      " 'filters': [<Filter.NOFILTER: 0>,\n",
      "             <Filter.NOFILTER: 0>,\n",
      "             <Filter.NOFILTER: 0>,\n",
      "             <Filter.NOFILTER: 0>,\n",
      "             <Filter.NOFILTER: 0>,\n",
      "             <Filter.SHUFFLE: 1>],\n",
      " 'filters_meta': [0, 0, 0, 0, 0, 0],\n",
      " 'nthreads': 2,\n",
      " 'splitmode': <SplitMode.ALWAYS_SPLIT: 1>,\n",
      " 'typesize': 8,\n",
      " 'use_dict': 0}\n",
      "dparams : {'nthreads': 2}\n",
      "\n"
     ]
    }
   ],
   "source": [
    "shape = (100, 100, 100)\n",
    "dtype = np.float64\n",
    "nparray = np.linspace(0, 100, np.prod(shape), dtype=dtype).reshape(shape)\n",
    "b2ndarray = blosc2.asarray(nparray)\n",
    "print(b2ndarray.info)"
   ],
   "metadata": {
    "collapsed": false,
    "ExecuteTime": {
     "end_time": "2023-06-21T07:20:28.367237Z",
     "start_time": "2023-06-21T07:20:28.309410Z"
    }
   }
  },
  {
   "cell_type": "markdown",
   "metadata": {},
   "source": [
    "## Building a NDArray from a buffer\n",
    "\n",
    "Furthermore, you can create a NDArray filled with data from a buffer:"
   ]
  },
  {
   "cell_type": "code",
   "execution_count": 3,
   "metadata": {
    "ExecuteTime": {
     "end_time": "2023-06-21T07:20:28.447983Z",
     "start_time": "2023-06-21T07:20:28.367551Z"
    }
   },
   "outputs": [
    {
     "name": "stdout",
     "output_type": "stream",
     "text": [
      "Compression ratio: 2.34648018517612\n"
     ]
    },
    {
     "data": {
      "text/plain": "array([[[ 2.90142294e-01,  6.00364532e+00,  1.42442172e+00,\n         -4.99554555e+00,  6.19454573e-01],\n        [ 1.00020988e+01, -1.76757106e+01,  2.51317170e+00,\n         -1.90917192e+00, -2.70592236e+00],\n        [ 7.37423771e+00,  1.04212462e+01,  8.04882697e+00,\n         -1.43199549e+01, -3.45910950e+00],\n        [ 1.27661906e+01, -9.43514916e+00,  8.88374464e+00,\n          2.69273166e+00, -3.77710724e+00],\n        [ 9.14030559e+00,  1.75787001e+00,  9.52035273e+00,\n          6.25335241e-01, -6.72120860e+00]],\n\n       [[ 4.75364992e+00, -9.35220828e+00, -7.56732236e+00,\n          1.23780719e+01,  5.68336660e+00],\n        [ 1.05150495e+00, -4.04485813e+00,  6.78892180e-02,\n          1.27232322e+01, -9.56710456e+00],\n        [ 7.04345822e+00,  3.19199500e+00, -6.60152568e+00,\n         -4.03375561e+00,  1.06913026e+00],\n        [ 2.65452758e+00, -5.46139871e+00, -1.48943101e-01,\n          7.85667920e+00, -7.58526315e+00],\n        [-1.01251426e+00, -5.18814832e+00,  6.13525807e+00,\n          7.15844246e+00,  5.96917983e+00]],\n\n       [[-7.19668871e-01,  4.82931856e-01, -9.73307668e+00,\n          2.01480088e+00, -9.04258826e+00],\n        [ 1.11652734e+01,  1.04680770e-02,  2.10475508e+00,\n          9.79249227e-01,  1.16062289e+01],\n        [-2.98649104e+00,  4.46003297e+00, -6.60005239e-01,\n         -8.08234321e+00, -1.47488673e+00],\n        [-2.09023266e+00, -1.26874969e+01, -7.49274304e+00,\n          2.02699142e+00,  6.21381999e+00],\n        [-1.50790440e+00,  1.68395340e-01, -8.41736507e+00,\n          3.30591842e+00,  1.32254085e+01]],\n\n       [[ 1.00393637e+01, -1.99153925e+01,  2.84763325e-01,\n          5.13137659e+00, -1.12815114e+01],\n        [-1.16591677e+00, -8.96966784e+00,  1.04777473e+01,\n          3.34253337e+00,  6.23862626e-01],\n        [ 8.83011551e+00,  1.05762973e+01, -3.78371683e+00,\n          9.64396311e+00, -1.10364167e+01],\n        [ 1.39589397e+01, -4.39438914e+00,  5.75054669e+00,\n         -1.82283465e+00,  1.42356676e+01],\n        [-1.00203672e+01, -1.96664960e+01,  5.29569018e+00,\n         -4.98595799e+00,  1.17368148e+01]],\n\n       [[-1.20904180e+01, -1.00984515e+01, -1.75256378e+00,\n         -7.14408201e+00,  5.13648597e+00],\n        [-6.18987045e-01,  1.16220408e+01, -6.16637045e+00,\n          1.34849912e+01, -1.20048302e+00],\n        [ 7.14320266e+00, -9.22890280e+00,  1.13734873e+01,\n          2.67554297e+00, -8.09666724e+00],\n        [ 3.90904815e+00,  4.47784515e+00,  1.06120065e+01,\n          7.22332460e+00, -1.54408860e+01],\n        [ 1.03060072e+01,  1.34659733e+00, -6.09767017e+00,\n         -1.53633893e+01, -2.96740113e+00]]])"
     },
     "execution_count": 3,
     "metadata": {},
     "output_type": "execute_result"
    }
   ],
   "source": [
    "buffer = bytes(np.random.normal(0, 1, np.prod(shape)) * 8)\n",
    "b2ndarray = blosc2.frombuffer(buffer, shape, dtype=dtype)\n",
    "print(\"Compression ratio:\", b2ndarray.schunk.cratio)\n",
    "b2ndarray[:5, :5, :5]"
   ]
  },
  {
   "cell_type": "markdown",
   "metadata": {},
   "source": [
    "## Serializing NumPy arrays\n",
    "\n",
    "If what you want is to create a serialized, compressed version of a NumPy array, you can use the newer (and faster) functions to store it either in-memory or on-disk.  The specification of such a contiguous compressed representation, aka **cframe** can be seen [here](https://github.com/Blosc/c-blosc2/blob/main/README_CFRAME_FORMAT.rst).\n",
    "\n",
    "### In-memory\n",
    "\n",
    "For obtaining an in-memory representation, you can use `pack_tensor`. In comparison with its former version (`pack_array`), it is way faster and does not have the 2 GB size limitation:"
   ]
  },
  {
   "cell_type": "code",
   "execution_count": 4,
   "outputs": [],
   "source": [
    "shape = (2**10, ) * 3\n",
    "np_array = np.arange(np.prod(shape), dtype=np.int32)  # 4 GB array\n",
    "\n",
    "packed_arr2 = blosc2.pack_tensor(np_array)\n",
    "unpacked_arr2 = blosc2.unpack_tensor(packed_arr2)"
   ],
   "metadata": {
    "collapsed": false,
    "ExecuteTime": {
     "end_time": "2023-06-21T07:20:36.211765Z",
     "start_time": "2023-06-21T07:20:28.453180Z"
    }
   }
  },
  {
   "cell_type": "markdown",
   "source": [
    "### On-disk\n",
    "\n",
    "To store the serialized buffer on-disk you want to use `save_tensor` and `load_tensor`:"
   ],
   "metadata": {
    "collapsed": false
   }
  },
  {
   "cell_type": "code",
   "execution_count": 5,
   "outputs": [
    {
     "data": {
      "text/plain": "True"
     },
     "execution_count": 5,
     "metadata": {},
     "output_type": "execute_result"
    }
   ],
   "source": [
    "blosc2.save_tensor(np_array, urlpath=\"ondisk_array.b2frame\", mode=\"w\")\n",
    "np_array2 = blosc2.load_tensor(\"ondisk_array.b2frame\")\n",
    "np.array_equal(np_array, np_array2)"
   ],
   "metadata": {
    "collapsed": false,
    "ExecuteTime": {
     "end_time": "2023-06-21T07:21:06.385022Z",
     "start_time": "2023-06-21T07:20:49.034625Z"
    }
   }
  }
 ],
 "metadata": {
  "kernelspec": {
   "display_name": "Python 3 (ipykernel)",
   "language": "python",
   "name": "python3"
  },
  "language_info": {
   "codemirror_mode": {
    "name": "ipython",
    "version": 3
   },
   "file_extension": ".py",
   "mimetype": "text/x-python",
   "name": "python",
   "nbconvert_exporter": "python",
   "pygments_lexer": "ipython3",
   "version": "3.9.6"
  }
 },
 "nbformat": 4,
 "nbformat_minor": 1
}
