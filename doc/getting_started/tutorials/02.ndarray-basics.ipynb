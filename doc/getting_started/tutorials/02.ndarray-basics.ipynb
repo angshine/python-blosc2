{
 "cells": [
  {
   "cell_type": "markdown",
   "metadata": {},
   "source": [
    "# NDArray basics\n",
    "\n",
    "NDArray functions let users perform different operations with NDArray arrays like setting, copying or slicing them.\n",
    "In this section, we are going to see how to create and manipulate a NDArray array in a simple way.\n"
   ]
  },
  {
   "cell_type": "code",
   "execution_count": 39,
   "metadata": {
    "ExecuteTime": {
     "end_time": "2023-06-20T11:06:16.067557Z",
     "start_time": "2023-06-20T11:06:15.414791Z"
    }
   },
   "outputs": [],
   "source": [
    "import blosc2\n",
    "import numpy as np"
   ]
  },
  {
   "cell_type": "markdown",
   "metadata": {},
   "source": [
    "## Creating an array\n",
    "First, we create an array, with zeros being used as the default value for uninitialized portions of the array.\n"
   ]
  },
  {
   "cell_type": "code",
   "execution_count": 40,
   "outputs": [
    {
     "data": {
      "text/plain": "\u001B[1m{\u001B[0m\n    \u001B[32m'blocksize'\u001B[0m: \u001B[1;36m131072\u001B[0m,\n    \u001B[32m'clevel'\u001B[0m: \u001B[1;36m1\u001B[0m,\n    \u001B[32m'codec'\u001B[0m: \u001B[1m<\u001B[0m\u001B[1;95mCodec.ZSTD:\u001B[0m\u001B[39m \u001B[0m\u001B[1;36m5\u001B[0m\u001B[39m>,\u001B[0m\n\u001B[39m    \u001B[0m\u001B[32m'codec_meta'\u001B[0m\u001B[39m: \u001B[0m\u001B[1;36m0\u001B[0m\u001B[39m,\u001B[0m\n\u001B[39m    \u001B[0m\u001B[32m'filters'\u001B[0m\u001B[39m: \u001B[0m\u001B[1;39m[\u001B[0m\n\u001B[39m        <Filter.NOFILTER: \u001B[0m\u001B[1;36m0\u001B[0m\u001B[39m>,\u001B[0m\n\u001B[39m        <Filter.NOFILTER: \u001B[0m\u001B[1;36m0\u001B[0m\u001B[39m>,\u001B[0m\n\u001B[39m        <Filter.NOFILTER: \u001B[0m\u001B[1;36m0\u001B[0m\u001B[39m>,\u001B[0m\n\u001B[39m        <Filter.NOFILTER: \u001B[0m\u001B[1;36m0\u001B[0m\u001B[39m>,\u001B[0m\n\u001B[39m        <Filter.NOFILTER: \u001B[0m\u001B[1;36m0\u001B[0m\u001B[39m>,\u001B[0m\n\u001B[39m        <Filter.SHUFFLE: \u001B[0m\u001B[1;36m1\u001B[0m\u001B[39m>\u001B[0m\n\u001B[39m    \u001B[0m\u001B[1;39m]\u001B[0m\u001B[39m,\u001B[0m\n\u001B[39m    \u001B[0m\u001B[32m'filters_meta'\u001B[0m\u001B[39m: \u001B[0m\u001B[1;39m[\u001B[0m\u001B[1;36m0\u001B[0m\u001B[39m, \u001B[0m\u001B[1;36m0\u001B[0m\u001B[39m, \u001B[0m\u001B[1;36m0\u001B[0m\u001B[39m, \u001B[0m\u001B[1;36m0\u001B[0m\u001B[39m, \u001B[0m\u001B[1;36m0\u001B[0m\u001B[39m, \u001B[0m\u001B[1;36m0\u001B[0m\u001B[1;39m]\u001B[0m\u001B[39m,\u001B[0m\n\u001B[39m    \u001B[0m\u001B[32m'nthreads'\u001B[0m\u001B[39m: \u001B[0m\u001B[1;36m2\u001B[0m\u001B[39m,\u001B[0m\n\u001B[39m    \u001B[0m\u001B[32m'splitmode'\u001B[0m\u001B[39m: <SplitMode.ALWAYS_SPLIT: \u001B[0m\u001B[1;36m1\u001B[0m\u001B[1m>\u001B[0m,\n    \u001B[32m'typesize'\u001B[0m: \u001B[1;36m4\u001B[0m,\n    \u001B[32m'use_dict'\u001B[0m: \u001B[1;36m0\u001B[0m\n\u001B[1m}\u001B[0m\n",
      "text/html": "<pre style=\"white-space:pre;overflow-x:auto;line-height:normal;font-family:Menlo,'DejaVu Sans Mono',consolas,'Courier New',monospace\"><span style=\"font-weight: bold\">{</span>\n    <span style=\"color: #008000; text-decoration-color: #008000\">'blocksize'</span>: <span style=\"color: #008080; text-decoration-color: #008080; font-weight: bold\">131072</span>,\n    <span style=\"color: #008000; text-decoration-color: #008000\">'clevel'</span>: <span style=\"color: #008080; text-decoration-color: #008080; font-weight: bold\">1</span>,\n    <span style=\"color: #008000; text-decoration-color: #008000\">'codec'</span>: <span style=\"font-weight: bold\">&lt;</span><span style=\"color: #ff00ff; text-decoration-color: #ff00ff; font-weight: bold\">Codec.ZSTD:</span><span style=\"color: #000000; text-decoration-color: #000000\"> </span><span style=\"color: #008080; text-decoration-color: #008080; font-weight: bold\">5</span><span style=\"color: #000000; text-decoration-color: #000000\">&gt;,</span>\n<span style=\"color: #000000; text-decoration-color: #000000\">    </span><span style=\"color: #008000; text-decoration-color: #008000\">'codec_meta'</span><span style=\"color: #000000; text-decoration-color: #000000\">: </span><span style=\"color: #008080; text-decoration-color: #008080; font-weight: bold\">0</span><span style=\"color: #000000; text-decoration-color: #000000\">,</span>\n<span style=\"color: #000000; text-decoration-color: #000000\">    </span><span style=\"color: #008000; text-decoration-color: #008000\">'filters'</span><span style=\"color: #000000; text-decoration-color: #000000\">: </span><span style=\"color: #000000; text-decoration-color: #000000; font-weight: bold\">[</span>\n<span style=\"color: #000000; text-decoration-color: #000000\">        &lt;Filter.NOFILTER: </span><span style=\"color: #008080; text-decoration-color: #008080; font-weight: bold\">0</span><span style=\"color: #000000; text-decoration-color: #000000\">&gt;,</span>\n<span style=\"color: #000000; text-decoration-color: #000000\">        &lt;Filter.NOFILTER: </span><span style=\"color: #008080; text-decoration-color: #008080; font-weight: bold\">0</span><span style=\"color: #000000; text-decoration-color: #000000\">&gt;,</span>\n<span style=\"color: #000000; text-decoration-color: #000000\">        &lt;Filter.NOFILTER: </span><span style=\"color: #008080; text-decoration-color: #008080; font-weight: bold\">0</span><span style=\"color: #000000; text-decoration-color: #000000\">&gt;,</span>\n<span style=\"color: #000000; text-decoration-color: #000000\">        &lt;Filter.NOFILTER: </span><span style=\"color: #008080; text-decoration-color: #008080; font-weight: bold\">0</span><span style=\"color: #000000; text-decoration-color: #000000\">&gt;,</span>\n<span style=\"color: #000000; text-decoration-color: #000000\">        &lt;Filter.NOFILTER: </span><span style=\"color: #008080; text-decoration-color: #008080; font-weight: bold\">0</span><span style=\"color: #000000; text-decoration-color: #000000\">&gt;,</span>\n<span style=\"color: #000000; text-decoration-color: #000000\">        &lt;Filter.SHUFFLE: </span><span style=\"color: #008080; text-decoration-color: #008080; font-weight: bold\">1</span><span style=\"color: #000000; text-decoration-color: #000000\">&gt;</span>\n<span style=\"color: #000000; text-decoration-color: #000000\">    </span><span style=\"color: #000000; text-decoration-color: #000000; font-weight: bold\">]</span><span style=\"color: #000000; text-decoration-color: #000000\">,</span>\n<span style=\"color: #000000; text-decoration-color: #000000\">    </span><span style=\"color: #008000; text-decoration-color: #008000\">'filters_meta'</span><span style=\"color: #000000; text-decoration-color: #000000\">: </span><span style=\"color: #000000; text-decoration-color: #000000; font-weight: bold\">[</span><span style=\"color: #008080; text-decoration-color: #008080; font-weight: bold\">0</span><span style=\"color: #000000; text-decoration-color: #000000\">, </span><span style=\"color: #008080; text-decoration-color: #008080; font-weight: bold\">0</span><span style=\"color: #000000; text-decoration-color: #000000\">, </span><span style=\"color: #008080; text-decoration-color: #008080; font-weight: bold\">0</span><span style=\"color: #000000; text-decoration-color: #000000\">, </span><span style=\"color: #008080; text-decoration-color: #008080; font-weight: bold\">0</span><span style=\"color: #000000; text-decoration-color: #000000\">, </span><span style=\"color: #008080; text-decoration-color: #008080; font-weight: bold\">0</span><span style=\"color: #000000; text-decoration-color: #000000\">, </span><span style=\"color: #008080; text-decoration-color: #008080; font-weight: bold\">0</span><span style=\"color: #000000; text-decoration-color: #000000; font-weight: bold\">]</span><span style=\"color: #000000; text-decoration-color: #000000\">,</span>\n<span style=\"color: #000000; text-decoration-color: #000000\">    </span><span style=\"color: #008000; text-decoration-color: #008000\">'nthreads'</span><span style=\"color: #000000; text-decoration-color: #000000\">: </span><span style=\"color: #008080; text-decoration-color: #008080; font-weight: bold\">2</span><span style=\"color: #000000; text-decoration-color: #000000\">,</span>\n<span style=\"color: #000000; text-decoration-color: #000000\">    </span><span style=\"color: #008000; text-decoration-color: #008000\">'splitmode'</span><span style=\"color: #000000; text-decoration-color: #000000\">: &lt;SplitMode.ALWAYS_SPLIT: </span><span style=\"color: #008080; text-decoration-color: #008080; font-weight: bold\">1</span><span style=\"font-weight: bold\">&gt;</span>,\n    <span style=\"color: #008000; text-decoration-color: #008000\">'typesize'</span>: <span style=\"color: #008080; text-decoration-color: #008080; font-weight: bold\">4</span>,\n    <span style=\"color: #008000; text-decoration-color: #008000\">'use_dict'</span>: <span style=\"color: #008080; text-decoration-color: #008080; font-weight: bold\">0</span>\n<span style=\"font-weight: bold\">}</span>\n</pre>\n"
     },
     "metadata": {},
     "output_type": "display_data"
    },
    {
     "data": {
      "text/plain": "\u001B[1m{\u001B[0m\u001B[32m'nthreads'\u001B[0m: \u001B[1;36m2\u001B[0m\u001B[1m}\u001B[0m\n",
      "text/html": "<pre style=\"white-space:pre;overflow-x:auto;line-height:normal;font-family:Menlo,'DejaVu Sans Mono',consolas,'Courier New',monospace\"><span style=\"font-weight: bold\">{</span><span style=\"color: #008000; text-decoration-color: #008000\">'nthreads'</span>: <span style=\"color: #008080; text-decoration-color: #008080; font-weight: bold\">2</span><span style=\"font-weight: bold\">}</span>\n</pre>\n"
     },
     "metadata": {},
     "output_type": "display_data"
    },
    {
     "data": {
      "text/plain": "type    : NDArray\nshape   : (10000, 10000)\nchunks  : (512, 1024)\nblocks  : (128, 256)\ndtype   : int32\ncratio  : 65536.00\ncparams : \ndparams : ",
      "text/html": "<table class=\"NDArray-info\"><tbody><tr><th style=\"text-align: left\">type</th><td style=\"text-align: left\">NDArray</td></tr><tr><th style=\"text-align: left\">shape</th><td style=\"text-align: left\">(10000, 10000)</td></tr><tr><th style=\"text-align: left\">chunks</th><td style=\"text-align: left\">(512, 1024)</td></tr><tr><th style=\"text-align: left\">blocks</th><td style=\"text-align: left\">(128, 256)</td></tr><tr><th style=\"text-align: left\">dtype</th><td style=\"text-align: left\">int32</td></tr><tr><th style=\"text-align: left\">cratio</th><td style=\"text-align: left\">65536.00</td></tr><tr><th style=\"text-align: left\">cparams</th><td style=\"text-align: left\">{'codec': <Codec.ZSTD: 5>, 'codec_meta': 0, 'clevel': 1, 'use_dict': 0, 'typesize': 4, 'nthreads': 2, 'blocksize': 131072, 'splitmode': <SplitMode.ALWAYS_SPLIT: 1>, 'filters': [<Filter.NOFILTER: 0>, <Filter.NOFILTER: 0>, <Filter.NOFILTER: 0>, <Filter.NOFILTER: 0>, <Filter.NOFILTER: 0>, <Filter.SHUFFLE: 1>], 'filters_meta': [0, 0, 0, 0, 0, 0]}</td></tr><tr><th style=\"text-align: left\">dparams</th><td style=\"text-align: left\">{'nthreads': 2}</td></tr></tbody></table>"
     },
     "execution_count": 40,
     "metadata": {},
     "output_type": "execute_result"
    }
   ],
   "source": [
    "array = blosc2.zeros((10000, 10000), dtype=np.int32)\n",
    "array.info"
   ],
   "metadata": {
    "collapsed": false,
    "ExecuteTime": {
     "end_time": "2023-06-20T11:06:16.084638Z",
     "start_time": "2023-06-20T11:06:15.438704Z"
    }
   }
  },
  {
   "cell_type": "markdown",
   "metadata": {},
   "source": [
    "Note that all the compression and decompression parameters, as well as the chunks and blocks shapes are set to the default.\n",
    "\n",
    "## Reading and writing data\n",
    "We can access and edit NDArray arrays using NumPy."
   ]
  },
  {
   "cell_type": "code",
   "execution_count": 41,
   "metadata": {
    "ExecuteTime": {
     "end_time": "2023-06-20T11:06:16.092138Z",
     "start_time": "2023-06-20T11:06:15.524714Z"
    }
   },
   "outputs": [],
   "source": [
    "array[0, :] = np.arange(10000, dtype=array.dtype)\n",
    "array[:, 0] = np.arange(10000, dtype=array.dtype)"
   ]
  },
  {
   "cell_type": "code",
   "execution_count": 42,
   "metadata": {
    "ExecuteTime": {
     "end_time": "2023-06-20T11:06:16.092712Z",
     "start_time": "2023-06-20T11:06:15.551079Z"
    }
   },
   "outputs": [
    {
     "data": {
      "text/plain": "array(0, dtype=int32)"
     },
     "execution_count": 42,
     "metadata": {},
     "output_type": "execute_result"
    }
   ],
   "source": [
    "array[0, 0]"
   ]
  },
  {
   "cell_type": "code",
   "execution_count": 43,
   "metadata": {
    "ExecuteTime": {
     "end_time": "2023-06-20T11:06:16.103578Z",
     "start_time": "2023-06-20T11:06:15.566153Z"
    }
   },
   "outputs": [
    {
     "data": {
      "text/plain": "array([   0,    1,    2, ..., 9997, 9998, 9999], dtype=int32)"
     },
     "execution_count": 43,
     "metadata": {},
     "output_type": "execute_result"
    }
   ],
   "source": [
    "array[0, :]"
   ]
  },
  {
   "cell_type": "code",
   "execution_count": 44,
   "metadata": {
    "ExecuteTime": {
     "end_time": "2023-06-20T11:06:16.105065Z",
     "start_time": "2023-06-20T11:06:15.578166Z"
    }
   },
   "outputs": [
    {
     "data": {
      "text/plain": "array([   0,    1,    2, ..., 9997, 9998, 9999], dtype=int32)"
     },
     "execution_count": 44,
     "metadata": {},
     "output_type": "execute_result"
    }
   ],
   "source": [
    "array[:, 0]"
   ]
  },
  {
   "cell_type": "code",
   "execution_count": 45,
   "metadata": {
    "ExecuteTime": {
     "end_time": "2023-06-20T11:06:16.477471Z",
     "start_time": "2023-06-20T11:06:15.609140Z"
    }
   },
   "outputs": [
    {
     "data": {
      "text/plain": "array([[   0,    1,    2, ..., 9997, 9998, 9999],\n       [   1,    0,    0, ...,    0,    0,    0],\n       [   2,    0,    0, ...,    0,    0,    0],\n       ...,\n       [9997,    0,    0, ...,    0,    0,    0],\n       [9998,    0,    0, ...,    0,    0,    0],\n       [9999,    0,    0, ...,    0,    0,    0]], dtype=int32)"
     },
     "execution_count": 45,
     "metadata": {},
     "output_type": "execute_result"
    }
   ],
   "source": [
    "array[...]"
   ]
  },
  {
   "cell_type": "markdown",
   "source": [
    "## Persistent data\n",
    "As in the SChunk, when we create a NDArray array, we can specify where it will be stored. Indeed, we can specify all the compression/decompression parameters that we can specify in a SChunk.\n",
    "So as in the SChunk, to store an array on-disk we only have to specify a `urlpath` where to store the new array.\n"
   ],
   "metadata": {
    "collapsed": false
   }
  },
  {
   "cell_type": "code",
   "execution_count": 47,
   "metadata": {
    "ExecuteTime": {
     "end_time": "2023-06-20T11:06:40.047736Z",
     "start_time": "2023-06-20T11:06:40.031427Z"
    }
   },
   "outputs": [
    {
     "data": {
      "text/plain": "\u001B[1m{\u001B[0m\n    \u001B[32m'blocksize'\u001B[0m: \u001B[1;36m10000\u001B[0m,\n    \u001B[32m'clevel'\u001B[0m: \u001B[1;36m1\u001B[0m,\n    \u001B[32m'codec'\u001B[0m: \u001B[1m<\u001B[0m\u001B[1;95mCodec.ZSTD:\u001B[0m\u001B[39m \u001B[0m\u001B[1;36m5\u001B[0m\u001B[39m>,\u001B[0m\n\u001B[39m    \u001B[0m\u001B[32m'codec_meta'\u001B[0m\u001B[39m: \u001B[0m\u001B[1;36m0\u001B[0m\u001B[39m,\u001B[0m\n\u001B[39m    \u001B[0m\u001B[32m'filters'\u001B[0m\u001B[39m: \u001B[0m\u001B[1;39m[\u001B[0m\n\u001B[39m        <Filter.NOFILTER: \u001B[0m\u001B[1;36m0\u001B[0m\u001B[39m>,\u001B[0m\n\u001B[39m        <Filter.NOFILTER: \u001B[0m\u001B[1;36m0\u001B[0m\u001B[39m>,\u001B[0m\n\u001B[39m        <Filter.NOFILTER: \u001B[0m\u001B[1;36m0\u001B[0m\u001B[39m>,\u001B[0m\n\u001B[39m        <Filter.NOFILTER: \u001B[0m\u001B[1;36m0\u001B[0m\u001B[39m>,\u001B[0m\n\u001B[39m        <Filter.NOFILTER: \u001B[0m\u001B[1;36m0\u001B[0m\u001B[39m>,\u001B[0m\n\u001B[39m        <Filter.SHUFFLE: \u001B[0m\u001B[1;36m1\u001B[0m\u001B[39m>\u001B[0m\n\u001B[39m    \u001B[0m\u001B[1;39m]\u001B[0m\u001B[39m,\u001B[0m\n\u001B[39m    \u001B[0m\u001B[32m'filters_meta'\u001B[0m\u001B[39m: \u001B[0m\u001B[1;39m[\u001B[0m\u001B[1;36m0\u001B[0m\u001B[39m, \u001B[0m\u001B[1;36m0\u001B[0m\u001B[39m, \u001B[0m\u001B[1;36m0\u001B[0m\u001B[39m, \u001B[0m\u001B[1;36m0\u001B[0m\u001B[39m, \u001B[0m\u001B[1;36m0\u001B[0m\u001B[39m, \u001B[0m\u001B[1;36m0\u001B[0m\u001B[1;39m]\u001B[0m\u001B[39m,\u001B[0m\n\u001B[39m    \u001B[0m\u001B[32m'nthreads'\u001B[0m\u001B[39m: \u001B[0m\u001B[1;36m2\u001B[0m\u001B[39m,\u001B[0m\n\u001B[39m    \u001B[0m\u001B[32m'splitmode'\u001B[0m\u001B[39m: <SplitMode.ALWAYS_SPLIT: \u001B[0m\u001B[1;36m1\u001B[0m\u001B[1m>\u001B[0m,\n    \u001B[32m'typesize'\u001B[0m: \u001B[1;36m4\u001B[0m,\n    \u001B[32m'use_dict'\u001B[0m: \u001B[1;36m0\u001B[0m\n\u001B[1m}\u001B[0m\n",
      "text/html": "<pre style=\"white-space:pre;overflow-x:auto;line-height:normal;font-family:Menlo,'DejaVu Sans Mono',consolas,'Courier New',monospace\"><span style=\"font-weight: bold\">{</span>\n    <span style=\"color: #008000; text-decoration-color: #008000\">'blocksize'</span>: <span style=\"color: #008080; text-decoration-color: #008080; font-weight: bold\">10000</span>,\n    <span style=\"color: #008000; text-decoration-color: #008000\">'clevel'</span>: <span style=\"color: #008080; text-decoration-color: #008080; font-weight: bold\">1</span>,\n    <span style=\"color: #008000; text-decoration-color: #008000\">'codec'</span>: <span style=\"font-weight: bold\">&lt;</span><span style=\"color: #ff00ff; text-decoration-color: #ff00ff; font-weight: bold\">Codec.ZSTD:</span><span style=\"color: #000000; text-decoration-color: #000000\"> </span><span style=\"color: #008080; text-decoration-color: #008080; font-weight: bold\">5</span><span style=\"color: #000000; text-decoration-color: #000000\">&gt;,</span>\n<span style=\"color: #000000; text-decoration-color: #000000\">    </span><span style=\"color: #008000; text-decoration-color: #008000\">'codec_meta'</span><span style=\"color: #000000; text-decoration-color: #000000\">: </span><span style=\"color: #008080; text-decoration-color: #008080; font-weight: bold\">0</span><span style=\"color: #000000; text-decoration-color: #000000\">,</span>\n<span style=\"color: #000000; text-decoration-color: #000000\">    </span><span style=\"color: #008000; text-decoration-color: #008000\">'filters'</span><span style=\"color: #000000; text-decoration-color: #000000\">: </span><span style=\"color: #000000; text-decoration-color: #000000; font-weight: bold\">[</span>\n<span style=\"color: #000000; text-decoration-color: #000000\">        &lt;Filter.NOFILTER: </span><span style=\"color: #008080; text-decoration-color: #008080; font-weight: bold\">0</span><span style=\"color: #000000; text-decoration-color: #000000\">&gt;,</span>\n<span style=\"color: #000000; text-decoration-color: #000000\">        &lt;Filter.NOFILTER: </span><span style=\"color: #008080; text-decoration-color: #008080; font-weight: bold\">0</span><span style=\"color: #000000; text-decoration-color: #000000\">&gt;,</span>\n<span style=\"color: #000000; text-decoration-color: #000000\">        &lt;Filter.NOFILTER: </span><span style=\"color: #008080; text-decoration-color: #008080; font-weight: bold\">0</span><span style=\"color: #000000; text-decoration-color: #000000\">&gt;,</span>\n<span style=\"color: #000000; text-decoration-color: #000000\">        &lt;Filter.NOFILTER: </span><span style=\"color: #008080; text-decoration-color: #008080; font-weight: bold\">0</span><span style=\"color: #000000; text-decoration-color: #000000\">&gt;,</span>\n<span style=\"color: #000000; text-decoration-color: #000000\">        &lt;Filter.NOFILTER: </span><span style=\"color: #008080; text-decoration-color: #008080; font-weight: bold\">0</span><span style=\"color: #000000; text-decoration-color: #000000\">&gt;,</span>\n<span style=\"color: #000000; text-decoration-color: #000000\">        &lt;Filter.SHUFFLE: </span><span style=\"color: #008080; text-decoration-color: #008080; font-weight: bold\">1</span><span style=\"color: #000000; text-decoration-color: #000000\">&gt;</span>\n<span style=\"color: #000000; text-decoration-color: #000000\">    </span><span style=\"color: #000000; text-decoration-color: #000000; font-weight: bold\">]</span><span style=\"color: #000000; text-decoration-color: #000000\">,</span>\n<span style=\"color: #000000; text-decoration-color: #000000\">    </span><span style=\"color: #008000; text-decoration-color: #008000\">'filters_meta'</span><span style=\"color: #000000; text-decoration-color: #000000\">: </span><span style=\"color: #000000; text-decoration-color: #000000; font-weight: bold\">[</span><span style=\"color: #008080; text-decoration-color: #008080; font-weight: bold\">0</span><span style=\"color: #000000; text-decoration-color: #000000\">, </span><span style=\"color: #008080; text-decoration-color: #008080; font-weight: bold\">0</span><span style=\"color: #000000; text-decoration-color: #000000\">, </span><span style=\"color: #008080; text-decoration-color: #008080; font-weight: bold\">0</span><span style=\"color: #000000; text-decoration-color: #000000\">, </span><span style=\"color: #008080; text-decoration-color: #008080; font-weight: bold\">0</span><span style=\"color: #000000; text-decoration-color: #000000\">, </span><span style=\"color: #008080; text-decoration-color: #008080; font-weight: bold\">0</span><span style=\"color: #000000; text-decoration-color: #000000\">, </span><span style=\"color: #008080; text-decoration-color: #008080; font-weight: bold\">0</span><span style=\"color: #000000; text-decoration-color: #000000; font-weight: bold\">]</span><span style=\"color: #000000; text-decoration-color: #000000\">,</span>\n<span style=\"color: #000000; text-decoration-color: #000000\">    </span><span style=\"color: #008000; text-decoration-color: #008000\">'nthreads'</span><span style=\"color: #000000; text-decoration-color: #000000\">: </span><span style=\"color: #008080; text-decoration-color: #008080; font-weight: bold\">2</span><span style=\"color: #000000; text-decoration-color: #000000\">,</span>\n<span style=\"color: #000000; text-decoration-color: #000000\">    </span><span style=\"color: #008000; text-decoration-color: #008000\">'splitmode'</span><span style=\"color: #000000; text-decoration-color: #000000\">: &lt;SplitMode.ALWAYS_SPLIT: </span><span style=\"color: #008080; text-decoration-color: #008080; font-weight: bold\">1</span><span style=\"font-weight: bold\">&gt;</span>,\n    <span style=\"color: #008000; text-decoration-color: #008000\">'typesize'</span>: <span style=\"color: #008080; text-decoration-color: #008080; font-weight: bold\">4</span>,\n    <span style=\"color: #008000; text-decoration-color: #008000\">'use_dict'</span>: <span style=\"color: #008080; text-decoration-color: #008080; font-weight: bold\">0</span>\n<span style=\"font-weight: bold\">}</span>\n</pre>\n"
     },
     "metadata": {},
     "output_type": "display_data"
    },
    {
     "data": {
      "text/plain": "\u001B[1m{\u001B[0m\u001B[32m'nthreads'\u001B[0m: \u001B[1;36m2\u001B[0m\u001B[1m}\u001B[0m\n",
      "text/html": "<pre style=\"white-space:pre;overflow-x:auto;line-height:normal;font-family:Menlo,'DejaVu Sans Mono',consolas,'Courier New',monospace\"><span style=\"font-weight: bold\">{</span><span style=\"color: #008000; text-decoration-color: #008000\">'nthreads'</span>: <span style=\"color: #008080; text-decoration-color: #008080; font-weight: bold\">2</span><span style=\"font-weight: bold\">}</span>\n</pre>\n"
     },
     "metadata": {},
     "output_type": "display_data"
    },
    {
     "data": {
      "text/plain": "type    : NDArray\nshape   : (1000, 1000)\nchunks  : (100, 100)\nblocks  : (50, 50)\ndtype   : |S4\ncratio  : 1111.11\ncparams : \ndparams : ",
      "text/html": "<table class=\"NDArray-info\"><tbody><tr><th style=\"text-align: left\">type</th><td style=\"text-align: left\">NDArray</td></tr><tr><th style=\"text-align: left\">shape</th><td style=\"text-align: left\">(1000, 1000)</td></tr><tr><th style=\"text-align: left\">chunks</th><td style=\"text-align: left\">(100, 100)</td></tr><tr><th style=\"text-align: left\">blocks</th><td style=\"text-align: left\">(50, 50)</td></tr><tr><th style=\"text-align: left\">dtype</th><td style=\"text-align: left\">|S4</td></tr><tr><th style=\"text-align: left\">cratio</th><td style=\"text-align: left\">1111.11</td></tr><tr><th style=\"text-align: left\">cparams</th><td style=\"text-align: left\">{'codec': <Codec.ZSTD: 5>, 'codec_meta': 0, 'clevel': 1, 'use_dict': 0, 'typesize': 4, 'nthreads': 2, 'blocksize': 10000, 'splitmode': <SplitMode.ALWAYS_SPLIT: 1>, 'filters': [<Filter.NOFILTER: 0>, <Filter.NOFILTER: 0>, <Filter.NOFILTER: 0>, <Filter.NOFILTER: 0>, <Filter.NOFILTER: 0>, <Filter.SHUFFLE: 1>], 'filters_meta': [0, 0, 0, 0, 0, 0]}</td></tr><tr><th style=\"text-align: left\">dparams</th><td style=\"text-align: left\">{'nthreads': 2}</td></tr></tbody></table>"
     },
     "execution_count": 47,
     "metadata": {},
     "output_type": "execute_result"
    }
   ],
   "source": [
    "array = blosc2.full((1000, 1000), fill_value=b\"pepe\", chunks=(100, 100), blocks=(50, 50),\n",
    "             urlpath=\"ndarray_tutorial.b2nd\", mode=\"w\")\n",
    "array.info"
   ]
  },
  {
   "cell_type": "markdown",
   "metadata": {},
   "source": [
    "This time we even set the chunks and blocks shapes.\n",
    "\n",
    "## Updating and inserting\n",
    "\n",
    "First, let's update the first chunk:"
   ]
  },
  {
   "cell_type": "code",
   "execution_count": 48,
   "metadata": {
    "ExecuteTime": {
     "end_time": "2023-06-20T11:06:42.202070Z",
     "start_time": "2023-06-20T11:06:42.165711Z"
    }
   },
   "outputs": [
    {
     "data": {
      "text/plain": "\u001B[1m{\u001B[0m\n    \u001B[32m'blocksize'\u001B[0m: \u001B[1;36m10000\u001B[0m,\n    \u001B[32m'clevel'\u001B[0m: \u001B[1;36m1\u001B[0m,\n    \u001B[32m'codec'\u001B[0m: \u001B[1m<\u001B[0m\u001B[1;95mCodec.ZSTD:\u001B[0m\u001B[39m \u001B[0m\u001B[1;36m5\u001B[0m\u001B[39m>,\u001B[0m\n\u001B[39m    \u001B[0m\u001B[32m'codec_meta'\u001B[0m\u001B[39m: \u001B[0m\u001B[1;36m0\u001B[0m\u001B[39m,\u001B[0m\n\u001B[39m    \u001B[0m\u001B[32m'filters'\u001B[0m\u001B[39m: \u001B[0m\u001B[1;39m[\u001B[0m\n\u001B[39m        <Filter.NOFILTER: \u001B[0m\u001B[1;36m0\u001B[0m\u001B[39m>,\u001B[0m\n\u001B[39m        <Filter.NOFILTER: \u001B[0m\u001B[1;36m0\u001B[0m\u001B[39m>,\u001B[0m\n\u001B[39m        <Filter.NOFILTER: \u001B[0m\u001B[1;36m0\u001B[0m\u001B[39m>,\u001B[0m\n\u001B[39m        <Filter.NOFILTER: \u001B[0m\u001B[1;36m0\u001B[0m\u001B[39m>,\u001B[0m\n\u001B[39m        <Filter.NOFILTER: \u001B[0m\u001B[1;36m0\u001B[0m\u001B[39m>,\u001B[0m\n\u001B[39m        <Filter.SHUFFLE: \u001B[0m\u001B[1;36m1\u001B[0m\u001B[39m>\u001B[0m\n\u001B[39m    \u001B[0m\u001B[1;39m]\u001B[0m\u001B[39m,\u001B[0m\n\u001B[39m    \u001B[0m\u001B[32m'filters_meta'\u001B[0m\u001B[39m: \u001B[0m\u001B[1;39m[\u001B[0m\u001B[1;36m0\u001B[0m\u001B[39m, \u001B[0m\u001B[1;36m0\u001B[0m\u001B[39m, \u001B[0m\u001B[1;36m0\u001B[0m\u001B[39m, \u001B[0m\u001B[1;36m0\u001B[0m\u001B[39m, \u001B[0m\u001B[1;36m0\u001B[0m\u001B[39m, \u001B[0m\u001B[1;36m0\u001B[0m\u001B[1;39m]\u001B[0m\u001B[39m,\u001B[0m\n\u001B[39m    \u001B[0m\u001B[32m'nthreads'\u001B[0m\u001B[39m: \u001B[0m\u001B[1;36m2\u001B[0m\u001B[39m,\u001B[0m\n\u001B[39m    \u001B[0m\u001B[32m'splitmode'\u001B[0m\u001B[39m: <SplitMode.ALWAYS_SPLIT: \u001B[0m\u001B[1;36m1\u001B[0m\u001B[1m>\u001B[0m,\n    \u001B[32m'typesize'\u001B[0m: \u001B[1;36m4\u001B[0m,\n    \u001B[32m'use_dict'\u001B[0m: \u001B[1;36m0\u001B[0m\n\u001B[1m}\u001B[0m\n",
      "text/html": "<pre style=\"white-space:pre;overflow-x:auto;line-height:normal;font-family:Menlo,'DejaVu Sans Mono',consolas,'Courier New',monospace\"><span style=\"font-weight: bold\">{</span>\n    <span style=\"color: #008000; text-decoration-color: #008000\">'blocksize'</span>: <span style=\"color: #008080; text-decoration-color: #008080; font-weight: bold\">10000</span>,\n    <span style=\"color: #008000; text-decoration-color: #008000\">'clevel'</span>: <span style=\"color: #008080; text-decoration-color: #008080; font-weight: bold\">1</span>,\n    <span style=\"color: #008000; text-decoration-color: #008000\">'codec'</span>: <span style=\"font-weight: bold\">&lt;</span><span style=\"color: #ff00ff; text-decoration-color: #ff00ff; font-weight: bold\">Codec.ZSTD:</span><span style=\"color: #000000; text-decoration-color: #000000\"> </span><span style=\"color: #008080; text-decoration-color: #008080; font-weight: bold\">5</span><span style=\"color: #000000; text-decoration-color: #000000\">&gt;,</span>\n<span style=\"color: #000000; text-decoration-color: #000000\">    </span><span style=\"color: #008000; text-decoration-color: #008000\">'codec_meta'</span><span style=\"color: #000000; text-decoration-color: #000000\">: </span><span style=\"color: #008080; text-decoration-color: #008080; font-weight: bold\">0</span><span style=\"color: #000000; text-decoration-color: #000000\">,</span>\n<span style=\"color: #000000; text-decoration-color: #000000\">    </span><span style=\"color: #008000; text-decoration-color: #008000\">'filters'</span><span style=\"color: #000000; text-decoration-color: #000000\">: </span><span style=\"color: #000000; text-decoration-color: #000000; font-weight: bold\">[</span>\n<span style=\"color: #000000; text-decoration-color: #000000\">        &lt;Filter.NOFILTER: </span><span style=\"color: #008080; text-decoration-color: #008080; font-weight: bold\">0</span><span style=\"color: #000000; text-decoration-color: #000000\">&gt;,</span>\n<span style=\"color: #000000; text-decoration-color: #000000\">        &lt;Filter.NOFILTER: </span><span style=\"color: #008080; text-decoration-color: #008080; font-weight: bold\">0</span><span style=\"color: #000000; text-decoration-color: #000000\">&gt;,</span>\n<span style=\"color: #000000; text-decoration-color: #000000\">        &lt;Filter.NOFILTER: </span><span style=\"color: #008080; text-decoration-color: #008080; font-weight: bold\">0</span><span style=\"color: #000000; text-decoration-color: #000000\">&gt;,</span>\n<span style=\"color: #000000; text-decoration-color: #000000\">        &lt;Filter.NOFILTER: </span><span style=\"color: #008080; text-decoration-color: #008080; font-weight: bold\">0</span><span style=\"color: #000000; text-decoration-color: #000000\">&gt;,</span>\n<span style=\"color: #000000; text-decoration-color: #000000\">        &lt;Filter.NOFILTER: </span><span style=\"color: #008080; text-decoration-color: #008080; font-weight: bold\">0</span><span style=\"color: #000000; text-decoration-color: #000000\">&gt;,</span>\n<span style=\"color: #000000; text-decoration-color: #000000\">        &lt;Filter.SHUFFLE: </span><span style=\"color: #008080; text-decoration-color: #008080; font-weight: bold\">1</span><span style=\"color: #000000; text-decoration-color: #000000\">&gt;</span>\n<span style=\"color: #000000; text-decoration-color: #000000\">    </span><span style=\"color: #000000; text-decoration-color: #000000; font-weight: bold\">]</span><span style=\"color: #000000; text-decoration-color: #000000\">,</span>\n<span style=\"color: #000000; text-decoration-color: #000000\">    </span><span style=\"color: #008000; text-decoration-color: #008000\">'filters_meta'</span><span style=\"color: #000000; text-decoration-color: #000000\">: </span><span style=\"color: #000000; text-decoration-color: #000000; font-weight: bold\">[</span><span style=\"color: #008080; text-decoration-color: #008080; font-weight: bold\">0</span><span style=\"color: #000000; text-decoration-color: #000000\">, </span><span style=\"color: #008080; text-decoration-color: #008080; font-weight: bold\">0</span><span style=\"color: #000000; text-decoration-color: #000000\">, </span><span style=\"color: #008080; text-decoration-color: #008080; font-weight: bold\">0</span><span style=\"color: #000000; text-decoration-color: #000000\">, </span><span style=\"color: #008080; text-decoration-color: #008080; font-weight: bold\">0</span><span style=\"color: #000000; text-decoration-color: #000000\">, </span><span style=\"color: #008080; text-decoration-color: #008080; font-weight: bold\">0</span><span style=\"color: #000000; text-decoration-color: #000000\">, </span><span style=\"color: #008080; text-decoration-color: #008080; font-weight: bold\">0</span><span style=\"color: #000000; text-decoration-color: #000000; font-weight: bold\">]</span><span style=\"color: #000000; text-decoration-color: #000000\">,</span>\n<span style=\"color: #000000; text-decoration-color: #000000\">    </span><span style=\"color: #008000; text-decoration-color: #008000\">'nthreads'</span><span style=\"color: #000000; text-decoration-color: #000000\">: </span><span style=\"color: #008080; text-decoration-color: #008080; font-weight: bold\">2</span><span style=\"color: #000000; text-decoration-color: #000000\">,</span>\n<span style=\"color: #000000; text-decoration-color: #000000\">    </span><span style=\"color: #008000; text-decoration-color: #008000\">'splitmode'</span><span style=\"color: #000000; text-decoration-color: #000000\">: &lt;SplitMode.ALWAYS_SPLIT: </span><span style=\"color: #008080; text-decoration-color: #008080; font-weight: bold\">1</span><span style=\"font-weight: bold\">&gt;</span>,\n    <span style=\"color: #008000; text-decoration-color: #008000\">'typesize'</span>: <span style=\"color: #008080; text-decoration-color: #008080; font-weight: bold\">4</span>,\n    <span style=\"color: #008000; text-decoration-color: #008000\">'use_dict'</span>: <span style=\"color: #008080; text-decoration-color: #008080; font-weight: bold\">0</span>\n<span style=\"font-weight: bold\">}</span>\n</pre>\n"
     },
     "metadata": {},
     "output_type": "display_data"
    },
    {
     "data": {
      "text/plain": "\u001B[1m{\u001B[0m\u001B[32m'nthreads'\u001B[0m: \u001B[1;36m2\u001B[0m\u001B[1m}\u001B[0m\n",
      "text/html": "<pre style=\"white-space:pre;overflow-x:auto;line-height:normal;font-family:Menlo,'DejaVu Sans Mono',consolas,'Courier New',monospace\"><span style=\"font-weight: bold\">{</span><span style=\"color: #008000; text-decoration-color: #008000\">'nthreads'</span>: <span style=\"color: #008080; text-decoration-color: #008080; font-weight: bold\">2</span><span style=\"font-weight: bold\">}</span>\n</pre>\n"
     },
     "metadata": {},
     "output_type": "display_data"
    },
    {
     "data": {
      "text/plain": "type    : NDArray\nshape   : (1000, 1000)\nchunks  : (100, 100)\nblocks  : (50, 50)\ndtype   : |S4\ncratio  : 1111.11\ncparams : \ndparams : ",
      "text/html": "<table class=\"NDArray-info\"><tbody><tr><th style=\"text-align: left\">type</th><td style=\"text-align: left\">NDArray</td></tr><tr><th style=\"text-align: left\">shape</th><td style=\"text-align: left\">(1000, 1000)</td></tr><tr><th style=\"text-align: left\">chunks</th><td style=\"text-align: left\">(100, 100)</td></tr><tr><th style=\"text-align: left\">blocks</th><td style=\"text-align: left\">(50, 50)</td></tr><tr><th style=\"text-align: left\">dtype</th><td style=\"text-align: left\">|S4</td></tr><tr><th style=\"text-align: left\">cratio</th><td style=\"text-align: left\">1111.11</td></tr><tr><th style=\"text-align: left\">cparams</th><td style=\"text-align: left\">{'codec': <Codec.ZSTD: 5>, 'codec_meta': 0, 'clevel': 1, 'use_dict': 0, 'typesize': 4, 'nthreads': 2, 'blocksize': 10000, 'splitmode': <SplitMode.ALWAYS_SPLIT: 1>, 'filters': [<Filter.NOFILTER: 0>, <Filter.NOFILTER: 0>, <Filter.NOFILTER: 0>, <Filter.NOFILTER: 0>, <Filter.NOFILTER: 0>, <Filter.SHUFFLE: 1>], 'filters_meta': [0, 0, 0, 0, 0, 0]}</td></tr><tr><th style=\"text-align: left\">dparams</th><td style=\"text-align: left\">{'nthreads': 2}</td></tr></tbody></table>"
     },
     "execution_count": 48,
     "metadata": {},
     "output_type": "execute_result"
    }
   ],
   "source": [
    "array2 = blosc2.open(\"ndarray_tutorial.b2nd\")\n",
    "\n",
    "array2.info"
   ]
  },
  {
   "cell_type": "markdown",
   "metadata": {},
   "source": [
    "## Compression params\n",
    "Here we can see how when we make a copy of a NDArray array we can change its compression parameters in an easy way."
   ]
  },
  {
   "cell_type": "code",
   "execution_count": 49,
   "metadata": {
    "ExecuteTime": {
     "end_time": "2023-06-20T11:06:42.938056Z",
     "start_time": "2023-06-20T11:06:42.856351Z"
    }
   },
   "outputs": [
    {
     "data": {
      "text/plain": "\u001B[1m{\u001B[0m\n    \u001B[32m'blocksize'\u001B[0m: \u001B[1;36m4000\u001B[0m,\n    \u001B[32m'clevel'\u001B[0m: \u001B[1;36m1\u001B[0m,\n    \u001B[32m'codec'\u001B[0m: \u001B[1m<\u001B[0m\u001B[1;95mCodec.ZSTD:\u001B[0m\u001B[39m \u001B[0m\u001B[1;36m5\u001B[0m\u001B[39m>,\u001B[0m\n\u001B[39m    \u001B[0m\u001B[32m'codec_meta'\u001B[0m\u001B[39m: \u001B[0m\u001B[1;36m0\u001B[0m\u001B[39m,\u001B[0m\n\u001B[39m    \u001B[0m\u001B[32m'filters'\u001B[0m\u001B[39m: \u001B[0m\u001B[1;39m[\u001B[0m\n\u001B[39m        <Filter.NOFILTER: \u001B[0m\u001B[1;36m0\u001B[0m\u001B[39m>,\u001B[0m\n\u001B[39m        <Filter.NOFILTER: \u001B[0m\u001B[1;36m0\u001B[0m\u001B[39m>,\u001B[0m\n\u001B[39m        <Filter.NOFILTER: \u001B[0m\u001B[1;36m0\u001B[0m\u001B[39m>,\u001B[0m\n\u001B[39m        <Filter.NOFILTER: \u001B[0m\u001B[1;36m0\u001B[0m\u001B[39m>,\u001B[0m\n\u001B[39m        <Filter.NOFILTER: \u001B[0m\u001B[1;36m0\u001B[0m\u001B[39m>,\u001B[0m\n\u001B[39m        <Filter.SHUFFLE: \u001B[0m\u001B[1;36m1\u001B[0m\u001B[39m>\u001B[0m\n\u001B[39m    \u001B[0m\u001B[1;39m]\u001B[0m\u001B[39m,\u001B[0m\n\u001B[39m    \u001B[0m\u001B[32m'filters_meta'\u001B[0m\u001B[39m: \u001B[0m\u001B[1;39m[\u001B[0m\u001B[1;36m0\u001B[0m\u001B[39m, \u001B[0m\u001B[1;36m0\u001B[0m\u001B[39m, \u001B[0m\u001B[1;36m0\u001B[0m\u001B[39m, \u001B[0m\u001B[1;36m0\u001B[0m\u001B[39m, \u001B[0m\u001B[1;36m0\u001B[0m\u001B[39m, \u001B[0m\u001B[1;36m0\u001B[0m\u001B[1;39m]\u001B[0m\u001B[39m,\u001B[0m\n\u001B[39m    \u001B[0m\u001B[32m'nthreads'\u001B[0m\u001B[39m: \u001B[0m\u001B[1;36m2\u001B[0m\u001B[39m,\u001B[0m\n\u001B[39m    \u001B[0m\u001B[32m'splitmode'\u001B[0m\u001B[39m: <SplitMode.ALWAYS_SPLIT: \u001B[0m\u001B[1;36m1\u001B[0m\u001B[1m>\u001B[0m,\n    \u001B[32m'typesize'\u001B[0m: \u001B[1;36m8\u001B[0m,\n    \u001B[32m'use_dict'\u001B[0m: \u001B[1;36m0\u001B[0m\n\u001B[1m}\u001B[0m\n",
      "text/html": "<pre style=\"white-space:pre;overflow-x:auto;line-height:normal;font-family:Menlo,'DejaVu Sans Mono',consolas,'Courier New',monospace\"><span style=\"font-weight: bold\">{</span>\n    <span style=\"color: #008000; text-decoration-color: #008000\">'blocksize'</span>: <span style=\"color: #008080; text-decoration-color: #008080; font-weight: bold\">4000</span>,\n    <span style=\"color: #008000; text-decoration-color: #008000\">'clevel'</span>: <span style=\"color: #008080; text-decoration-color: #008080; font-weight: bold\">1</span>,\n    <span style=\"color: #008000; text-decoration-color: #008000\">'codec'</span>: <span style=\"font-weight: bold\">&lt;</span><span style=\"color: #ff00ff; text-decoration-color: #ff00ff; font-weight: bold\">Codec.ZSTD:</span><span style=\"color: #000000; text-decoration-color: #000000\"> </span><span style=\"color: #008080; text-decoration-color: #008080; font-weight: bold\">5</span><span style=\"color: #000000; text-decoration-color: #000000\">&gt;,</span>\n<span style=\"color: #000000; text-decoration-color: #000000\">    </span><span style=\"color: #008000; text-decoration-color: #008000\">'codec_meta'</span><span style=\"color: #000000; text-decoration-color: #000000\">: </span><span style=\"color: #008080; text-decoration-color: #008080; font-weight: bold\">0</span><span style=\"color: #000000; text-decoration-color: #000000\">,</span>\n<span style=\"color: #000000; text-decoration-color: #000000\">    </span><span style=\"color: #008000; text-decoration-color: #008000\">'filters'</span><span style=\"color: #000000; text-decoration-color: #000000\">: </span><span style=\"color: #000000; text-decoration-color: #000000; font-weight: bold\">[</span>\n<span style=\"color: #000000; text-decoration-color: #000000\">        &lt;Filter.NOFILTER: </span><span style=\"color: #008080; text-decoration-color: #008080; font-weight: bold\">0</span><span style=\"color: #000000; text-decoration-color: #000000\">&gt;,</span>\n<span style=\"color: #000000; text-decoration-color: #000000\">        &lt;Filter.NOFILTER: </span><span style=\"color: #008080; text-decoration-color: #008080; font-weight: bold\">0</span><span style=\"color: #000000; text-decoration-color: #000000\">&gt;,</span>\n<span style=\"color: #000000; text-decoration-color: #000000\">        &lt;Filter.NOFILTER: </span><span style=\"color: #008080; text-decoration-color: #008080; font-weight: bold\">0</span><span style=\"color: #000000; text-decoration-color: #000000\">&gt;,</span>\n<span style=\"color: #000000; text-decoration-color: #000000\">        &lt;Filter.NOFILTER: </span><span style=\"color: #008080; text-decoration-color: #008080; font-weight: bold\">0</span><span style=\"color: #000000; text-decoration-color: #000000\">&gt;,</span>\n<span style=\"color: #000000; text-decoration-color: #000000\">        &lt;Filter.NOFILTER: </span><span style=\"color: #008080; text-decoration-color: #008080; font-weight: bold\">0</span><span style=\"color: #000000; text-decoration-color: #000000\">&gt;,</span>\n<span style=\"color: #000000; text-decoration-color: #000000\">        &lt;Filter.SHUFFLE: </span><span style=\"color: #008080; text-decoration-color: #008080; font-weight: bold\">1</span><span style=\"color: #000000; text-decoration-color: #000000\">&gt;</span>\n<span style=\"color: #000000; text-decoration-color: #000000\">    </span><span style=\"color: #000000; text-decoration-color: #000000; font-weight: bold\">]</span><span style=\"color: #000000; text-decoration-color: #000000\">,</span>\n<span style=\"color: #000000; text-decoration-color: #000000\">    </span><span style=\"color: #008000; text-decoration-color: #008000\">'filters_meta'</span><span style=\"color: #000000; text-decoration-color: #000000\">: </span><span style=\"color: #000000; text-decoration-color: #000000; font-weight: bold\">[</span><span style=\"color: #008080; text-decoration-color: #008080; font-weight: bold\">0</span><span style=\"color: #000000; text-decoration-color: #000000\">, </span><span style=\"color: #008080; text-decoration-color: #008080; font-weight: bold\">0</span><span style=\"color: #000000; text-decoration-color: #000000\">, </span><span style=\"color: #008080; text-decoration-color: #008080; font-weight: bold\">0</span><span style=\"color: #000000; text-decoration-color: #000000\">, </span><span style=\"color: #008080; text-decoration-color: #008080; font-weight: bold\">0</span><span style=\"color: #000000; text-decoration-color: #000000\">, </span><span style=\"color: #008080; text-decoration-color: #008080; font-weight: bold\">0</span><span style=\"color: #000000; text-decoration-color: #000000\">, </span><span style=\"color: #008080; text-decoration-color: #008080; font-weight: bold\">0</span><span style=\"color: #000000; text-decoration-color: #000000; font-weight: bold\">]</span><span style=\"color: #000000; text-decoration-color: #000000\">,</span>\n<span style=\"color: #000000; text-decoration-color: #000000\">    </span><span style=\"color: #008000; text-decoration-color: #008000\">'nthreads'</span><span style=\"color: #000000; text-decoration-color: #000000\">: </span><span style=\"color: #008080; text-decoration-color: #008080; font-weight: bold\">2</span><span style=\"color: #000000; text-decoration-color: #000000\">,</span>\n<span style=\"color: #000000; text-decoration-color: #000000\">    </span><span style=\"color: #008000; text-decoration-color: #008000\">'splitmode'</span><span style=\"color: #000000; text-decoration-color: #000000\">: &lt;SplitMode.ALWAYS_SPLIT: </span><span style=\"color: #008080; text-decoration-color: #008080; font-weight: bold\">1</span><span style=\"font-weight: bold\">&gt;</span>,\n    <span style=\"color: #008000; text-decoration-color: #008000\">'typesize'</span>: <span style=\"color: #008080; text-decoration-color: #008080; font-weight: bold\">8</span>,\n    <span style=\"color: #008000; text-decoration-color: #008000\">'use_dict'</span>: <span style=\"color: #008080; text-decoration-color: #008080; font-weight: bold\">0</span>\n<span style=\"font-weight: bold\">}</span>\n</pre>\n"
     },
     "metadata": {},
     "output_type": "display_data"
    },
    {
     "data": {
      "text/plain": "\u001B[1m{\u001B[0m\u001B[32m'nthreads'\u001B[0m: \u001B[1;36m2\u001B[0m\u001B[1m}\u001B[0m\n",
      "text/html": "<pre style=\"white-space:pre;overflow-x:auto;line-height:normal;font-family:Menlo,'DejaVu Sans Mono',consolas,'Courier New',monospace\"><span style=\"font-weight: bold\">{</span><span style=\"color: #008000; text-decoration-color: #008000\">'nthreads'</span>: <span style=\"color: #008080; text-decoration-color: #008080; font-weight: bold\">2</span><span style=\"font-weight: bold\">}</span>\n</pre>\n"
     },
     "metadata": {},
     "output_type": "display_data"
    },
    {
     "data": {
      "text/plain": "type    : NDArray\nshape   : (1000, 1000)\nchunks  : (500, 10)\nblocks  : (50, 10)\ndtype   : int64\ncratio  : 7.45\ncparams : \ndparams : ",
      "text/html": "<table class=\"NDArray-info\"><tbody><tr><th style=\"text-align: left\">type</th><td style=\"text-align: left\">NDArray</td></tr><tr><th style=\"text-align: left\">shape</th><td style=\"text-align: left\">(1000, 1000)</td></tr><tr><th style=\"text-align: left\">chunks</th><td style=\"text-align: left\">(500, 10)</td></tr><tr><th style=\"text-align: left\">blocks</th><td style=\"text-align: left\">(50, 10)</td></tr><tr><th style=\"text-align: left\">dtype</th><td style=\"text-align: left\">int64</td></tr><tr><th style=\"text-align: left\">cratio</th><td style=\"text-align: left\">7.45</td></tr><tr><th style=\"text-align: left\">cparams</th><td style=\"text-align: left\">{'codec': <Codec.ZSTD: 5>, 'codec_meta': 0, 'clevel': 1, 'use_dict': 0, 'typesize': 8, 'nthreads': 2, 'blocksize': 4000, 'splitmode': <SplitMode.ALWAYS_SPLIT: 1>, 'filters': [<Filter.NOFILTER: 0>, <Filter.NOFILTER: 0>, <Filter.NOFILTER: 0>, <Filter.NOFILTER: 0>, <Filter.NOFILTER: 0>, <Filter.SHUFFLE: 1>], 'filters_meta': [0, 0, 0, 0, 0, 0]}</td></tr><tr><th style=\"text-align: left\">dparams</th><td style=\"text-align: left\">{'nthreads': 2}</td></tr></tbody></table>"
     },
     "execution_count": 49,
     "metadata": {},
     "output_type": "execute_result"
    }
   ],
   "source": [
    "b = np.arange(1000000).tobytes()\n",
    "\n",
    "array1 = blosc2.frombuffer(b, shape=(1000, 1000), dtype=np.int64, chunks=(500, 10), blocks=(50, 10))\n",
    "\n",
    "array1.info"
   ]
  },
  {
   "cell_type": "code",
   "execution_count": 50,
   "metadata": {
    "ExecuteTime": {
     "end_time": "2023-06-20T11:06:46.425549Z",
     "start_time": "2023-06-20T11:06:46.412864Z"
    }
   },
   "outputs": [
    {
     "data": {
      "text/plain": "\u001B[1m{\u001B[0m\n    \u001B[32m'blocksize'\u001B[0m: \u001B[1;36m4000\u001B[0m,\n    \u001B[32m'clevel'\u001B[0m: \u001B[1;36m9\u001B[0m,\n    \u001B[32m'codec'\u001B[0m: \u001B[1m<\u001B[0m\u001B[1;95mCodec.ZSTD:\u001B[0m\u001B[39m \u001B[0m\u001B[1;36m5\u001B[0m\u001B[39m>,\u001B[0m\n\u001B[39m    \u001B[0m\u001B[32m'codec_meta'\u001B[0m\u001B[39m: \u001B[0m\u001B[1;36m0\u001B[0m\u001B[39m,\u001B[0m\n\u001B[39m    \u001B[0m\u001B[32m'filters'\u001B[0m\u001B[39m: \u001B[0m\u001B[1;39m[\u001B[0m\n\u001B[39m        <Filter.BITSHUFFLE: \u001B[0m\u001B[1;36m2\u001B[0m\u001B[39m>,\u001B[0m\n\u001B[39m        <Filter.NOFILTER: \u001B[0m\u001B[1;36m0\u001B[0m\u001B[39m>,\u001B[0m\n\u001B[39m        <Filter.NOFILTER: \u001B[0m\u001B[1;36m0\u001B[0m\u001B[39m>,\u001B[0m\n\u001B[39m        <Filter.NOFILTER: \u001B[0m\u001B[1;36m0\u001B[0m\u001B[39m>,\u001B[0m\n\u001B[39m        <Filter.NOFILTER: \u001B[0m\u001B[1;36m0\u001B[0m\u001B[39m>,\u001B[0m\n\u001B[39m        <Filter.NOFILTER: \u001B[0m\u001B[1;36m0\u001B[0m\u001B[39m>\u001B[0m\n\u001B[39m    \u001B[0m\u001B[1;39m]\u001B[0m\u001B[39m,\u001B[0m\n\u001B[39m    \u001B[0m\u001B[32m'filters_meta'\u001B[0m\u001B[39m: \u001B[0m\u001B[1;39m[\u001B[0m\u001B[1;36m0\u001B[0m\u001B[39m, \u001B[0m\u001B[1;36m0\u001B[0m\u001B[39m, \u001B[0m\u001B[1;36m0\u001B[0m\u001B[39m, \u001B[0m\u001B[1;36m0\u001B[0m\u001B[39m, \u001B[0m\u001B[1;36m0\u001B[0m\u001B[39m, \u001B[0m\u001B[1;36m0\u001B[0m\u001B[1;39m]\u001B[0m\u001B[39m,\u001B[0m\n\u001B[39m    \u001B[0m\u001B[32m'nthreads'\u001B[0m\u001B[39m: \u001B[0m\u001B[1;36m2\u001B[0m\u001B[39m,\u001B[0m\n\u001B[39m    \u001B[0m\u001B[32m'splitmode'\u001B[0m\u001B[39m: <SplitMode.ALWAYS_SPLIT: \u001B[0m\u001B[1;36m1\u001B[0m\u001B[1m>\u001B[0m,\n    \u001B[32m'typesize'\u001B[0m: \u001B[1;36m8\u001B[0m,\n    \u001B[32m'use_dict'\u001B[0m: \u001B[1;36m0\u001B[0m\n\u001B[1m}\u001B[0m\n",
      "text/html": "<pre style=\"white-space:pre;overflow-x:auto;line-height:normal;font-family:Menlo,'DejaVu Sans Mono',consolas,'Courier New',monospace\"><span style=\"font-weight: bold\">{</span>\n    <span style=\"color: #008000; text-decoration-color: #008000\">'blocksize'</span>: <span style=\"color: #008080; text-decoration-color: #008080; font-weight: bold\">4000</span>,\n    <span style=\"color: #008000; text-decoration-color: #008000\">'clevel'</span>: <span style=\"color: #008080; text-decoration-color: #008080; font-weight: bold\">9</span>,\n    <span style=\"color: #008000; text-decoration-color: #008000\">'codec'</span>: <span style=\"font-weight: bold\">&lt;</span><span style=\"color: #ff00ff; text-decoration-color: #ff00ff; font-weight: bold\">Codec.ZSTD:</span><span style=\"color: #000000; text-decoration-color: #000000\"> </span><span style=\"color: #008080; text-decoration-color: #008080; font-weight: bold\">5</span><span style=\"color: #000000; text-decoration-color: #000000\">&gt;,</span>\n<span style=\"color: #000000; text-decoration-color: #000000\">    </span><span style=\"color: #008000; text-decoration-color: #008000\">'codec_meta'</span><span style=\"color: #000000; text-decoration-color: #000000\">: </span><span style=\"color: #008080; text-decoration-color: #008080; font-weight: bold\">0</span><span style=\"color: #000000; text-decoration-color: #000000\">,</span>\n<span style=\"color: #000000; text-decoration-color: #000000\">    </span><span style=\"color: #008000; text-decoration-color: #008000\">'filters'</span><span style=\"color: #000000; text-decoration-color: #000000\">: </span><span style=\"color: #000000; text-decoration-color: #000000; font-weight: bold\">[</span>\n<span style=\"color: #000000; text-decoration-color: #000000\">        &lt;Filter.BITSHUFFLE: </span><span style=\"color: #008080; text-decoration-color: #008080; font-weight: bold\">2</span><span style=\"color: #000000; text-decoration-color: #000000\">&gt;,</span>\n<span style=\"color: #000000; text-decoration-color: #000000\">        &lt;Filter.NOFILTER: </span><span style=\"color: #008080; text-decoration-color: #008080; font-weight: bold\">0</span><span style=\"color: #000000; text-decoration-color: #000000\">&gt;,</span>\n<span style=\"color: #000000; text-decoration-color: #000000\">        &lt;Filter.NOFILTER: </span><span style=\"color: #008080; text-decoration-color: #008080; font-weight: bold\">0</span><span style=\"color: #000000; text-decoration-color: #000000\">&gt;,</span>\n<span style=\"color: #000000; text-decoration-color: #000000\">        &lt;Filter.NOFILTER: </span><span style=\"color: #008080; text-decoration-color: #008080; font-weight: bold\">0</span><span style=\"color: #000000; text-decoration-color: #000000\">&gt;,</span>\n<span style=\"color: #000000; text-decoration-color: #000000\">        &lt;Filter.NOFILTER: </span><span style=\"color: #008080; text-decoration-color: #008080; font-weight: bold\">0</span><span style=\"color: #000000; text-decoration-color: #000000\">&gt;,</span>\n<span style=\"color: #000000; text-decoration-color: #000000\">        &lt;Filter.NOFILTER: </span><span style=\"color: #008080; text-decoration-color: #008080; font-weight: bold\">0</span><span style=\"color: #000000; text-decoration-color: #000000\">&gt;</span>\n<span style=\"color: #000000; text-decoration-color: #000000\">    </span><span style=\"color: #000000; text-decoration-color: #000000; font-weight: bold\">]</span><span style=\"color: #000000; text-decoration-color: #000000\">,</span>\n<span style=\"color: #000000; text-decoration-color: #000000\">    </span><span style=\"color: #008000; text-decoration-color: #008000\">'filters_meta'</span><span style=\"color: #000000; text-decoration-color: #000000\">: </span><span style=\"color: #000000; text-decoration-color: #000000; font-weight: bold\">[</span><span style=\"color: #008080; text-decoration-color: #008080; font-weight: bold\">0</span><span style=\"color: #000000; text-decoration-color: #000000\">, </span><span style=\"color: #008080; text-decoration-color: #008080; font-weight: bold\">0</span><span style=\"color: #000000; text-decoration-color: #000000\">, </span><span style=\"color: #008080; text-decoration-color: #008080; font-weight: bold\">0</span><span style=\"color: #000000; text-decoration-color: #000000\">, </span><span style=\"color: #008080; text-decoration-color: #008080; font-weight: bold\">0</span><span style=\"color: #000000; text-decoration-color: #000000\">, </span><span style=\"color: #008080; text-decoration-color: #008080; font-weight: bold\">0</span><span style=\"color: #000000; text-decoration-color: #000000\">, </span><span style=\"color: #008080; text-decoration-color: #008080; font-weight: bold\">0</span><span style=\"color: #000000; text-decoration-color: #000000; font-weight: bold\">]</span><span style=\"color: #000000; text-decoration-color: #000000\">,</span>\n<span style=\"color: #000000; text-decoration-color: #000000\">    </span><span style=\"color: #008000; text-decoration-color: #008000\">'nthreads'</span><span style=\"color: #000000; text-decoration-color: #000000\">: </span><span style=\"color: #008080; text-decoration-color: #008080; font-weight: bold\">2</span><span style=\"color: #000000; text-decoration-color: #000000\">,</span>\n<span style=\"color: #000000; text-decoration-color: #000000\">    </span><span style=\"color: #008000; text-decoration-color: #008000\">'splitmode'</span><span style=\"color: #000000; text-decoration-color: #000000\">: &lt;SplitMode.ALWAYS_SPLIT: </span><span style=\"color: #008080; text-decoration-color: #008080; font-weight: bold\">1</span><span style=\"font-weight: bold\">&gt;</span>,\n    <span style=\"color: #008000; text-decoration-color: #008000\">'typesize'</span>: <span style=\"color: #008080; text-decoration-color: #008080; font-weight: bold\">8</span>,\n    <span style=\"color: #008000; text-decoration-color: #008000\">'use_dict'</span>: <span style=\"color: #008080; text-decoration-color: #008080; font-weight: bold\">0</span>\n<span style=\"font-weight: bold\">}</span>\n</pre>\n"
     },
     "metadata": {},
     "output_type": "display_data"
    },
    {
     "data": {
      "text/plain": "\u001B[1m{\u001B[0m\u001B[32m'nthreads'\u001B[0m: \u001B[1;36m2\u001B[0m\u001B[1m}\u001B[0m\n",
      "text/html": "<pre style=\"white-space:pre;overflow-x:auto;line-height:normal;font-family:Menlo,'DejaVu Sans Mono',consolas,'Courier New',monospace\"><span style=\"font-weight: bold\">{</span><span style=\"color: #008000; text-decoration-color: #008000\">'nthreads'</span>: <span style=\"color: #008080; text-decoration-color: #008080; font-weight: bold\">2</span><span style=\"font-weight: bold\">}</span>\n</pre>\n"
     },
     "metadata": {},
     "output_type": "display_data"
    },
    {
     "data": {
      "text/plain": "type    : NDArray\nshape   : (1000, 1000)\nchunks  : (500, 10)\nblocks  : (50, 10)\ndtype   : int64\ncratio  : 13.94\ncparams : \ndparams : ",
      "text/html": "<table class=\"NDArray-info\"><tbody><tr><th style=\"text-align: left\">type</th><td style=\"text-align: left\">NDArray</td></tr><tr><th style=\"text-align: left\">shape</th><td style=\"text-align: left\">(1000, 1000)</td></tr><tr><th style=\"text-align: left\">chunks</th><td style=\"text-align: left\">(500, 10)</td></tr><tr><th style=\"text-align: left\">blocks</th><td style=\"text-align: left\">(50, 10)</td></tr><tr><th style=\"text-align: left\">dtype</th><td style=\"text-align: left\">int64</td></tr><tr><th style=\"text-align: left\">cratio</th><td style=\"text-align: left\">13.94</td></tr><tr><th style=\"text-align: left\">cparams</th><td style=\"text-align: left\">{'codec': <Codec.ZSTD: 5>, 'codec_meta': 0, 'clevel': 9, 'use_dict': 0, 'typesize': 8, 'nthreads': 2, 'blocksize': 4000, 'splitmode': <SplitMode.ALWAYS_SPLIT: 1>, 'filters': [<Filter.BITSHUFFLE: 2>, <Filter.NOFILTER: 0>, <Filter.NOFILTER: 0>, <Filter.NOFILTER: 0>, <Filter.NOFILTER: 0>, <Filter.NOFILTER: 0>], 'filters_meta': [0, 0, 0, 0, 0, 0]}</td></tr><tr><th style=\"text-align: left\">dparams</th><td style=\"text-align: left\">{'nthreads': 2}</td></tr></tbody></table>"
     },
     "execution_count": 50,
     "metadata": {},
     "output_type": "execute_result"
    }
   ],
   "source": [
    "cparams = {\n",
    "    \"codec\": blosc2.Codec.ZSTD,\n",
    "    \"clevel\": 9,\n",
    "    \"filters\": [blosc2.Filter.BITSHUFFLE],\n",
    "    \"filters_meta\": [0]\n",
    "}\n",
    "\n",
    "array2 = array1.copy(chunks=(500, 10), blocks=(50, 10), cparams=cparams)\n",
    "\n",
    "array2.info"
   ]
  },
  {
   "cell_type": "markdown",
   "metadata": {},
   "source": [
    "## Metalayers and variable length metalayers\n",
    "\n",
    "We have seen that you can pass to the NDArray constructor any compression or decompression parameters that you may pass to a SChunk. Indeed, you can also pass the metalayer dict. Metalayers are small metadata for informing about the properties of data that is stored on a container. As explained in [the SChunk basics](00.schunk-basics.html), there are two kinds. The first one (`meta`), cannot be deleted, must be added at construction time and can only be updated with values that have the same bytes size as the old value. They are easy to access and edit by users:"
   ]
  },
  {
   "cell_type": "code",
   "execution_count": 51,
   "metadata": {
    "ExecuteTime": {
     "end_time": "2023-06-20T11:06:46.435666Z",
     "start_time": "2023-06-20T11:06:46.428411Z"
    }
   },
   "outputs": [],
   "source": [
    "meta = {\n",
    "    \"dtype\": \"i8\",\n",
    "    \"coords\": [5.14, 23.]\n",
    "}\n",
    "array = blosc2.zeros((1000, 1000), dtype=np.int16, chunks=(100, 100), blocks=(50, 50), meta=meta)\n"
   ]
  },
  {
   "cell_type": "markdown",
   "source": [
    "You can work with them like if you were working with a dictionary. To access this dictionary you will use the SChunk attribute that an NDArray has."
   ],
   "metadata": {
    "collapsed": false
   }
  },
  {
   "cell_type": "code",
   "execution_count": 52,
   "outputs": [
    {
     "data": {
      "text/plain": "<blosc2.schunk.Meta at 0x7fb5f425aa00>"
     },
     "execution_count": 52,
     "metadata": {},
     "output_type": "execute_result"
    }
   ],
   "source": [
    "array.schunk.meta"
   ],
   "metadata": {
    "collapsed": false,
    "ExecuteTime": {
     "end_time": "2023-06-20T11:06:46.486291Z",
     "start_time": "2023-06-20T11:06:46.439407Z"
    }
   }
  },
  {
   "cell_type": "code",
   "execution_count": 53,
   "outputs": [
    {
     "data": {
      "text/plain": "['b2nd', 'dtype', 'coords']"
     },
     "execution_count": 53,
     "metadata": {},
     "output_type": "execute_result"
    }
   ],
   "source": [
    "array.schunk.meta.keys()"
   ],
   "metadata": {
    "collapsed": false,
    "ExecuteTime": {
     "end_time": "2023-06-20T11:06:46.488143Z",
     "start_time": "2023-06-20T11:06:46.454293Z"
    }
   }
  },
  {
   "cell_type": "markdown",
   "metadata": {},
   "source": [
    "As you can see, Blosc2 internally uses these metalayers to store shapes, ndim, dtype, etc, and retrieve this data when needed in the `b2nd` metalayer."
   ]
  },
  {
   "cell_type": "code",
   "execution_count": 54,
   "outputs": [
    {
     "data": {
      "text/plain": "[0, 2, [1000, 1000], [100, 100], [50, 50], 0, '<i2']"
     },
     "execution_count": 54,
     "metadata": {},
     "output_type": "execute_result"
    }
   ],
   "source": [
    "array.schunk.meta[\"b2nd\"]"
   ],
   "metadata": {
    "collapsed": false,
    "ExecuteTime": {
     "end_time": "2023-06-20T11:06:46.669666Z",
     "start_time": "2023-06-20T11:06:46.609102Z"
    }
   }
  },
  {
   "cell_type": "code",
   "execution_count": 55,
   "outputs": [
    {
     "data": {
      "text/plain": "[5.14, 23.0]"
     },
     "execution_count": 55,
     "metadata": {},
     "output_type": "execute_result"
    }
   ],
   "source": [
    "array.schunk.meta[\"coords\"]"
   ],
   "metadata": {
    "collapsed": false,
    "ExecuteTime": {
     "end_time": "2023-06-20T11:06:46.865121Z",
     "start_time": "2023-06-20T11:06:46.852397Z"
    }
   }
  },
  {
   "cell_type": "markdown",
   "source": [
    "To add a metalayer after the creation or a variable length metalayer, you can use the `vlmeta` accessor from the SChunk. As well as the `meta`, it works similarly to a dictionary."
   ],
   "metadata": {
    "collapsed": false
   }
  },
  {
   "cell_type": "code",
   "execution_count": 56,
   "outputs": [
    {
     "name": "stdout",
     "output_type": "stream",
     "text": [
      "{}\n"
     ]
    },
    {
     "data": {
      "text/plain": "{b'info1': 'This is an example', b'info2': 'of user meta handling'}"
     },
     "execution_count": 56,
     "metadata": {},
     "output_type": "execute_result"
    }
   ],
   "source": [
    "print(array.schunk.vlmeta.getall())\n",
    "array.schunk.vlmeta[\"info1\"] = \"This is an example\"\n",
    "array.schunk.vlmeta[\"info2\"] = \"of user meta handling\"\n",
    "array.schunk.vlmeta.getall()"
   ],
   "metadata": {
    "collapsed": false,
    "ExecuteTime": {
     "end_time": "2023-06-20T11:06:48.418181Z",
     "start_time": "2023-06-20T11:06:48.374971Z"
    }
   }
  },
  {
   "cell_type": "markdown",
   "source": [
    "You can update them with a value larger than the original one:"
   ],
   "metadata": {
    "collapsed": false
   }
  },
  {
   "cell_type": "code",
   "execution_count": 57,
   "outputs": [
    {
     "data": {
      "text/plain": "{b'info1': 'This is a larger example', b'info2': 'of user meta handling'}"
     },
     "execution_count": 57,
     "metadata": {},
     "output_type": "execute_result"
    }
   ],
   "source": [
    "array.schunk.vlmeta[\"info1\"] = \"This is a larger example\"\n",
    "array.schunk.vlmeta.getall()"
   ],
   "metadata": {
    "collapsed": false,
    "ExecuteTime": {
     "end_time": "2023-06-20T11:06:51.895339Z",
     "start_time": "2023-06-20T11:06:51.885193Z"
    }
   }
  },
  {
   "cell_type": "markdown",
   "source": [
    "That's all for now.  There are more examples in the [examples directory of the git repository](https://github.com/Blosc/python-blosc2/tree/main/examples/) for you to explore.  Enjoy!"
   ],
   "metadata": {
    "collapsed": false
   }
  }
 ],
 "metadata": {
  "kernelspec": {
   "display_name": "Python 3 (ipykernel)",
   "language": "python",
   "name": "python3"
  },
  "language_info": {
   "codemirror_mode": {
    "name": "ipython",
    "version": 3
   },
   "file_extension": ".py",
   "mimetype": "text/x-python",
   "name": "python",
   "nbconvert_exporter": "python",
   "pygments_lexer": "ipython3",
   "version": "3.10.4"
  }
 },
 "nbformat": 4,
 "nbformat_minor": 1
}
